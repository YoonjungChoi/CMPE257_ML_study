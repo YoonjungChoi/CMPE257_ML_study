{
 "cells": [
  {
   "cell_type": "markdown",
   "metadata": {
    "id": "-Ig7EqcE4yR2"
   },
   "source": [
    "# <font color=darkblue> Part 1: Exploring NumPy </font>"
   ]
  },
  {
   "cell_type": "code",
   "execution_count": 2,
   "metadata": {
    "colab": {
     "base_uri": "https://localhost:8080/"
    },
    "id": "Pq0yzCRo4ySB",
    "outputId": "8a7d921e-5e33-48d3-d2be-fce26b5fcf6e",
    "scrolled": true
   },
   "outputs": [
    {
     "name": "stdout",
     "output_type": "stream",
     "text": [
      "[11 22 33]\n"
     ]
    }
   ],
   "source": [
    "# Load library\n",
    "import numpy as np\n",
    "\n",
    "# Create a vector as a row\n",
    "vector_row = np.array([1, 2, 3])\n",
    "vector_row\n",
    "\n",
    "v_row = np.array([11,22,33])\n",
    "print(v_row)"
   ]
  },
  {
   "cell_type": "code",
   "execution_count": 6,
   "metadata": {
    "colab": {
     "base_uri": "https://localhost:8080/"
    },
    "id": "6PJ7ECPA4ySD",
    "outputId": "dd902596-952b-4286-e603-ceffc422027a"
   },
   "outputs": [
    {
     "name": "stdout",
     "output_type": "stream",
     "text": [
      "[[11]\n",
      " [22]\n",
      " [33]]\n"
     ]
    }
   ],
   "source": [
    "# Create a vector as a column\n",
    "vector_column = np.array([[1],[2],[3]])\n",
    "vector_column\n",
    "\n",
    "v_col = np.array([[11],[22],[33]])\n",
    "print(v_col)"
   ]
  },
  {
   "cell_type": "code",
   "execution_count": 7,
   "metadata": {
    "colab": {
     "base_uri": "https://localhost:8080/"
    },
    "id": "8Ga4gMpq4ySE",
    "outputId": "106a8407-a117-4d43-88ed-f0c8759262b7"
   },
   "outputs": [
    {
     "data": {
      "text/plain": [
       "array([[11, 22],\n",
       "       [11, 22],\n",
       "       [11, 22]])"
      ]
     },
     "execution_count": 7,
     "metadata": {},
     "output_type": "execute_result"
    }
   ],
   "source": [
    "# Create a matrix\n",
    "matrix = np.array([[1, 2],[1, 2],[1, 2]])\n",
    "matrix\n",
    "\n",
    "matrix2 = np.array([[11,22],[11,22],[11,22]])\n",
    "matrix2"
   ]
  },
  {
   "cell_type": "code",
   "execution_count": 8,
   "metadata": {
    "colab": {
     "base_uri": "https://localhost:8080/"
    },
    "id": "IGp6wSl44ySE",
    "outputId": "ff043efe-39e6-4525-ffd2-5826a4c1834e"
   },
   "outputs": [
    {
     "data": {
      "text/plain": [
       "numpy.ndarray"
      ]
     },
     "execution_count": 8,
     "metadata": {},
     "output_type": "execute_result"
    }
   ],
   "source": [
    "# Type of the matrix\n",
    "type(matrix)"
   ]
  },
  {
   "cell_type": "code",
   "execution_count": 9,
   "metadata": {
    "colab": {
     "base_uri": "https://localhost:8080/"
    },
    "id": "IqMBWGWX4ySF",
    "outputId": "468644f8-34cd-469b-f1bc-8325b265002e"
   },
   "outputs": [
    {
     "data": {
      "text/plain": [
       "array([[1, 1, 1, 1],\n",
       "       [1, 1, 1, 1],\n",
       "       [1, 1, 1, 1]], dtype=int16)"
      ]
     },
     "execution_count": 9,
     "metadata": {},
     "output_type": "execute_result"
    }
   ],
   "source": [
    "# Initializing an array with all '1' values\n",
    "np.ones( (3,4), dtype=np.int16 )  "
   ]
  },
  {
   "cell_type": "code",
   "execution_count": 10,
   "metadata": {
    "colab": {
     "base_uri": "https://localhost:8080/"
    },
    "id": "xfyFFOS54ySF",
    "outputId": "37d8ee07-8607-45c8-c8be-704e5c38d0af"
   },
   "outputs": [
    {
     "data": {
      "text/plain": [
       "array([[0.11, 0.11, 0.11, 0.11],\n",
       "       [0.11, 0.11, 0.11, 0.11],\n",
       "       [0.11, 0.11, 0.11, 0.11]])"
      ]
     },
     "execution_count": 10,
     "metadata": {},
     "output_type": "execute_result"
    }
   ],
   "source": [
    "# Initializing an array of with some value\n",
    "np.full( (3,4), 0.11 )  "
   ]
  },
  {
   "cell_type": "code",
   "execution_count": 20,
   "metadata": {
    "colab": {
     "base_uri": "https://localhost:8080/"
    },
    "id": "EB7s4Cdw4ySG",
    "outputId": "aa50b73e-5896-4121-dc88-a8229d0a3550"
   },
   "outputs": [
    {
     "data": {
      "text/plain": [
       "array([10, 15, 20, 25])"
      ]
     },
     "execution_count": 20,
     "metadata": {},
     "output_type": "execute_result"
    }
   ],
   "source": [
    "# Arrange an array of intervals\n",
    "np.arange( 10, 30, 5)"
   ]
  },
  {
   "cell_type": "code",
   "execution_count": 12,
   "metadata": {
    "colab": {
     "base_uri": "https://localhost:8080/"
    },
    "id": "UuDxX_eg4ySG",
    "outputId": "f6394d9c-f6d0-4874-dfaf-c9276f51ec7f"
   },
   "outputs": [
    {
     "data": {
      "text/plain": [
       "array([0. , 0.3, 0.6, 0.9, 1.2, 1.5, 1.8])"
      ]
     },
     "execution_count": 12,
     "metadata": {},
     "output_type": "execute_result"
    }
   ],
   "source": [
    "# Arrange an array of intervals\n",
    "np.arange( 0, 2, 0.3 )             "
   ]
  },
  {
   "cell_type": "code",
   "execution_count": 13,
   "metadata": {
    "colab": {
     "base_uri": "https://localhost:8080/"
    },
    "id": "2N8Lnpb84ySH",
    "outputId": "8d76c94a-1df3-42c5-c225-ccf656e4f95c"
   },
   "outputs": [
    {
     "data": {
      "text/plain": [
       "array([[0.97322634, 0.9921039 , 0.0686772 ],\n",
       "       [0.93440837, 0.02244756, 0.3847784 ]])"
      ]
     },
     "execution_count": 13,
     "metadata": {},
     "output_type": "execute_result"
    }
   ],
   "source": [
    "# Generate random samples \n",
    "np.random.rand(2,3)"
   ]
  },
  {
   "cell_type": "markdown",
   "metadata": {
    "id": "fEdfZkQ24ySH"
   },
   "source": [
    "### Some other important attributes"
   ]
  },
  {
   "cell_type": "markdown",
   "metadata": {
    "id": "HOC7iIjY4ySI"
   },
   "source": [
    "Some of the important attributes of a NumPy object are:\n",
    "1.\tNdim: displays the dimension of the array\n",
    "2.\tShape: returns a tuple of integers indicating the size of the array\n",
    "3.\tSize: returns the total number of elements in the NumPy array\n",
    "4.\tDtype: returns the type of elements in the array, i.e., int64, character\n",
    "5.\tItemsize: returns the size in bytes of each item\n",
    "6.\tReshape: Reshapes the NumPy array"
   ]
  },
  {
   "cell_type": "markdown",
   "metadata": {
    "id": "H-i1VZbN4ySI"
   },
   "source": [
    "### Examples of Indexing"
   ]
  },
  {
   "cell_type": "markdown",
   "metadata": {
    "id": "XxVoIrXa4ySI"
   },
   "source": [
    "- \tA[2:5] will print items 2 to 4. Index in NumPy arrays starts from 0\n",
    "- \tA[2::2] will print items 2 to end skipping 2 items\n",
    "- \tA[::-1] will print the array in the reverse order\n",
    "- \tA[1:] will print from row 1 to end\n"
   ]
  },
  {
   "cell_type": "code",
   "execution_count": 22,
   "metadata": {
    "colab": {
     "base_uri": "https://localhost:8080/"
    },
    "id": "hlJY-VcyH-xV",
    "outputId": "669c1ba9-8ba0-4484-97a8-14ba6046b38f"
   },
   "outputs": [
    {
     "name": "stdout",
     "output_type": "stream",
     "text": [
      "A: \n",
      "[[0.74578147 0.28891991 0.14265955]\n",
      " [0.31212997 0.3830154  0.21077875]\n",
      " [0.88505121 0.96047198 0.05043563]\n",
      " [0.35864146 0.43206989 0.7291597 ]\n",
      " [0.67774638 0.2572422  0.23089159]]\n",
      "\n",
      "A[2:5] \n",
      "[[0.88505121 0.96047198 0.05043563]\n",
      " [0.35864146 0.43206989 0.7291597 ]\n",
      " [0.67774638 0.2572422  0.23089159]]\n",
      "\n",
      "AA[2::2] \n",
      "[[0.88505121 0.96047198 0.05043563]\n",
      " [0.67774638 0.2572422  0.23089159]]\n",
      "\n",
      "A[::-1] \n",
      "[[0.67774638 0.2572422  0.23089159]\n",
      " [0.35864146 0.43206989 0.7291597 ]\n",
      " [0.88505121 0.96047198 0.05043563]\n",
      " [0.31212997 0.3830154  0.21077875]\n",
      " [0.74578147 0.28891991 0.14265955]]\n",
      "\n",
      "A[1:] \n",
      "[[0.31212997 0.3830154  0.21077875]\n",
      " [0.88505121 0.96047198 0.05043563]\n",
      " [0.35864146 0.43206989 0.7291597 ]\n",
      " [0.67774638 0.2572422  0.23089159]]\n",
      "\n",
      "A[:,2] \n",
      "[0.14265955 0.21077875 0.05043563 0.7291597  0.23089159]\n"
     ]
    }
   ],
   "source": [
    "A=np.random.rand(5,3)\n",
    "print(\"A: \")\n",
    "print(A)\n",
    "\n",
    "print(\"\\nA[2:5] \")\n",
    "print(A[2:5])\n",
    "\n",
    "print(\"\\nAA[2::2] \")\n",
    "print(A[2::2])\n",
    "\n",
    "print(\"\\nA[::-1] \")\n",
    "print(A[::-1])\n",
    "\n",
    "print(\"\\nA[1:] \")\n",
    "print(A[1:])\n",
    "\n",
    "print(\"\\nA[:,2] \") #(컬럼선택!)\n",
    "print(A[:,2])\n"
   ]
  },
  {
   "cell_type": "code",
   "execution_count": 23,
   "metadata": {
    "colab": {
     "base_uri": "https://localhost:8080/"
    },
    "id": "kS_dFE_rk0u-",
    "outputId": "ff85baf6-38cc-4a21-a7cf-e1588f8a32a4"
   },
   "outputs": [
    {
     "data": {
      "text/plain": [
       "(5, 3)"
      ]
     },
     "execution_count": 23,
     "metadata": {},
     "output_type": "execute_result"
    }
   ],
   "source": [
    "A.shape"
   ]
  },
  {
   "cell_type": "code",
   "execution_count": 24,
   "metadata": {
    "colab": {
     "base_uri": "https://localhost:8080/"
    },
    "id": "dBI8XW07k2UR",
    "outputId": "acc37018-ca25-46aa-dd15-d62ab9dbc365"
   },
   "outputs": [
    {
     "data": {
      "text/plain": [
       "15"
      ]
     },
     "execution_count": 24,
     "metadata": {},
     "output_type": "execute_result"
    }
   ],
   "source": [
    "A.size"
   ]
  },
  {
   "cell_type": "code",
   "execution_count": 25,
   "metadata": {
    "colab": {
     "base_uri": "https://localhost:8080/"
    },
    "id": "dOm2j7pTID0O",
    "outputId": "a729226e-3404-44fa-b089-7e16856852d8"
   },
   "outputs": [
    {
     "data": {
      "text/plain": [
       "array([[0.31212997, 0.3830154 , 0.21077875],\n",
       "       [0.67774638, 0.2572422 , 0.23089159]])"
      ]
     },
     "execution_count": 25,
     "metadata": {},
     "output_type": "execute_result"
    }
   ],
   "source": [
    "A[1::3]"
   ]
  },
  {
   "cell_type": "markdown",
   "metadata": {
    "id": "Ft7_g45z4ySI"
   },
   "source": [
    "# <font color=darkblue> Part 2: Exploring pandas </font>"
   ]
  },
  {
   "cell_type": "code",
   "execution_count": 55,
   "metadata": {
    "colab": {
     "base_uri": "https://localhost:8080/",
     "height": 142
    },
    "id": "7q9jxNlg4ySJ",
    "outputId": "d155e033-66cd-40b6-d3c2-5445df16e2dd"
   },
   "outputs": [
    {
     "name": "stdout",
     "output_type": "stream",
     "text": [
      "         weight  birthyear  children    hobby\n",
      "alice        68       1985       NaN   Biking\n",
      "bob          83       1984       3.0  Dancing\n",
      "charles     112       1992       1.0      NaN\n",
      "     weight  birthyear  children    hobby\n",
      "bob      83       1984       3.0  Dancing\n",
      "         weight  birthyear  children hobby\n",
      "charles     112       1992       1.0   NaN\n",
      "         weight  birthyear  children    hobby\n",
      "alice        68       1985       2.0   Biking\n",
      "bob          83       1984       3.0  Dancing\n",
      "charles     112       1992       1.0      NaN\n"
     ]
    }
   ],
   "source": [
    "#Import library\n",
    "import pandas as pd\n",
    "\n",
    "#Creating a dataframe\n",
    "people_dict = { \"weight\": pd.Series([68, 83, 112], index=[\"alice\", \"bob\", \"charles\"]),   \n",
    "                \"birthyear\": pd.Series([1984, 1985, 1992], index=[\"bob\", \"alice\", \"charles\"]),\n",
    "                \"children\": pd.Series([1, 3], index=[\"charles\", \"bob\"]),\n",
    "                \"hobby\": pd.Series([\"Biking\", \"Dancing\"], index=[\"alice\", \"bob\"]),}\n",
    "people = pd.DataFrame(people_dict)\n",
    "print(people)\n",
    "\n",
    "print(people[people[\"children\"]>1])\n",
    "print(people[people[\"hobby\"].isnull()])\n",
    "\n",
    "from sklearn.impute import SimpleImputer\n",
    "imputer = SimpleImputer(missing_values=np.nan, strategy='mean')\n",
    "people['children'] = imputer.fit_transform(people['children'].values.reshape((-1,1)))\n",
    "print(people)"
   ]
  },
  {
   "cell_type": "code",
   "execution_count": 7,
   "metadata": {
    "colab": {
     "base_uri": "https://localhost:8080/",
     "height": 111
    },
    "id": "a85w73ml4ySJ",
    "outputId": "33ea17df-ca35-4eea-f732-8d062982ff85"
   },
   "outputs": [
    {
     "data": {
      "text/html": [
       "<div>\n",
       "<style scoped>\n",
       "    .dataframe tbody tr th:only-of-type {\n",
       "        vertical-align: middle;\n",
       "    }\n",
       "\n",
       "    .dataframe tbody tr th {\n",
       "        vertical-align: top;\n",
       "    }\n",
       "\n",
       "    .dataframe thead th {\n",
       "        text-align: right;\n",
       "    }\n",
       "</style>\n",
       "<table border=\"1\" class=\"dataframe\">\n",
       "  <thead>\n",
       "    <tr style=\"text-align: right;\">\n",
       "      <th></th>\n",
       "      <th>weight</th>\n",
       "      <th>birthyear</th>\n",
       "      <th>children</th>\n",
       "      <th>hobby</th>\n",
       "    </tr>\n",
       "  </thead>\n",
       "  <tbody>\n",
       "    <tr>\n",
       "      <th>alice</th>\n",
       "      <td>68</td>\n",
       "      <td>1985</td>\n",
       "      <td>NaN</td>\n",
       "      <td>Biking</td>\n",
       "    </tr>\n",
       "    <tr>\n",
       "      <th>bob</th>\n",
       "      <td>83</td>\n",
       "      <td>1984</td>\n",
       "      <td>3.0</td>\n",
       "      <td>Dancing</td>\n",
       "    </tr>\n",
       "  </tbody>\n",
       "</table>\n",
       "</div>"
      ],
      "text/plain": [
       "       weight  birthyear  children    hobby\n",
       "alice      68       1985       NaN   Biking\n",
       "bob        83       1984       3.0  Dancing"
      ]
     },
     "execution_count": 7,
     "metadata": {},
     "output_type": "execute_result"
    }
   ],
   "source": [
    "# Selecting only people born before 1990\n",
    "people[people[\"birthyear\"] < 1990]"
   ]
  },
  {
   "cell_type": "markdown",
   "metadata": {
    "id": "PjHikR_a4ySJ"
   },
   "source": [
    "### Some essential methods in dataframes:"
   ]
  },
  {
   "cell_type": "markdown",
   "metadata": {
    "id": "lVgtQlQR4ySJ"
   },
   "source": [
    "1.\thead(): returns the top 5 rows in the dataframe object\n",
    "2.\ttail(): returns the bottom 5 rows in the dataframe\n",
    "3.\tinfo(): prints the summary of the dataframe\n",
    "4.\tdescribe(): gives a nice overview of the main aggregated values over each column\n"
   ]
  },
  {
   "cell_type": "code",
   "execution_count": 25,
   "metadata": {
    "colab": {
     "base_uri": "https://localhost:8080/",
     "height": 142
    },
    "id": "rGWOZe7tk67h",
    "outputId": "3ef151e4-9631-413e-c565-929185971c4a"
   },
   "outputs": [
    {
     "data": {
      "text/html": [
       "<div>\n",
       "<style scoped>\n",
       "    .dataframe tbody tr th:only-of-type {\n",
       "        vertical-align: middle;\n",
       "    }\n",
       "\n",
       "    .dataframe tbody tr th {\n",
       "        vertical-align: top;\n",
       "    }\n",
       "\n",
       "    .dataframe thead th {\n",
       "        text-align: right;\n",
       "    }\n",
       "</style>\n",
       "<table border=\"1\" class=\"dataframe\">\n",
       "  <thead>\n",
       "    <tr style=\"text-align: right;\">\n",
       "      <th></th>\n",
       "      <th>weight</th>\n",
       "      <th>birthyear</th>\n",
       "      <th>children</th>\n",
       "      <th>hobby</th>\n",
       "    </tr>\n",
       "  </thead>\n",
       "  <tbody>\n",
       "    <tr>\n",
       "      <th>alice</th>\n",
       "      <td>68</td>\n",
       "      <td>1985</td>\n",
       "      <td>NaN</td>\n",
       "      <td>Biking</td>\n",
       "    </tr>\n",
       "    <tr>\n",
       "      <th>bob</th>\n",
       "      <td>83</td>\n",
       "      <td>1984</td>\n",
       "      <td>3.0</td>\n",
       "      <td>Dancing</td>\n",
       "    </tr>\n",
       "    <tr>\n",
       "      <th>charles</th>\n",
       "      <td>112</td>\n",
       "      <td>1992</td>\n",
       "      <td>0.0</td>\n",
       "      <td>NaN</td>\n",
       "    </tr>\n",
       "  </tbody>\n",
       "</table>\n",
       "</div>"
      ],
      "text/plain": [
       "         weight  birthyear  children    hobby\n",
       "alice        68       1985       NaN   Biking\n",
       "bob          83       1984       3.0  Dancing\n",
       "charles     112       1992       0.0      NaN"
      ]
     },
     "execution_count": 25,
     "metadata": {},
     "output_type": "execute_result"
    }
   ],
   "source": [
    "people.head()"
   ]
  },
  {
   "cell_type": "code",
   "execution_count": 30,
   "metadata": {
    "colab": {
     "base_uri": "https://localhost:8080/"
    },
    "id": "E7vSWSx9lAfv",
    "outputId": "23ccf44c-8bd1-4153-c06d-a95e3300cc9c"
   },
   "outputs": [
    {
     "name": "stdout",
     "output_type": "stream",
     "text": [
      "<class 'pandas.core.frame.DataFrame'>\n",
      "Index: 3 entries, alice to charles\n",
      "Data columns (total 4 columns):\n",
      " #   Column     Non-Null Count  Dtype  \n",
      "---  ------     --------------  -----  \n",
      " 0   weight     3 non-null      int64  \n",
      " 1   birthyear  3 non-null      int64  \n",
      " 2   children   2 non-null      float64\n",
      " 3   hobby      2 non-null      object \n",
      "dtypes: float64(1), int64(2), object(1)\n",
      "memory usage: 120.0+ bytes\n"
     ]
    },
    {
     "data": {
      "text/html": [
       "<div>\n",
       "<style scoped>\n",
       "    .dataframe tbody tr th:only-of-type {\n",
       "        vertical-align: middle;\n",
       "    }\n",
       "\n",
       "    .dataframe tbody tr th {\n",
       "        vertical-align: top;\n",
       "    }\n",
       "\n",
       "    .dataframe thead th {\n",
       "        text-align: right;\n",
       "    }\n",
       "</style>\n",
       "<table border=\"1\" class=\"dataframe\">\n",
       "  <thead>\n",
       "    <tr style=\"text-align: right;\">\n",
       "      <th></th>\n",
       "      <th>weight</th>\n",
       "      <th>birthyear</th>\n",
       "      <th>children</th>\n",
       "    </tr>\n",
       "  </thead>\n",
       "  <tbody>\n",
       "    <tr>\n",
       "      <th>count</th>\n",
       "      <td>3.000000</td>\n",
       "      <td>3.000000</td>\n",
       "      <td>2.00000</td>\n",
       "    </tr>\n",
       "    <tr>\n",
       "      <th>mean</th>\n",
       "      <td>87.666667</td>\n",
       "      <td>1987.000000</td>\n",
       "      <td>1.50000</td>\n",
       "    </tr>\n",
       "    <tr>\n",
       "      <th>std</th>\n",
       "      <td>22.368132</td>\n",
       "      <td>4.358899</td>\n",
       "      <td>2.12132</td>\n",
       "    </tr>\n",
       "    <tr>\n",
       "      <th>min</th>\n",
       "      <td>68.000000</td>\n",
       "      <td>1984.000000</td>\n",
       "      <td>0.00000</td>\n",
       "    </tr>\n",
       "    <tr>\n",
       "      <th>25%</th>\n",
       "      <td>75.500000</td>\n",
       "      <td>1984.500000</td>\n",
       "      <td>0.75000</td>\n",
       "    </tr>\n",
       "    <tr>\n",
       "      <th>50%</th>\n",
       "      <td>83.000000</td>\n",
       "      <td>1985.000000</td>\n",
       "      <td>1.50000</td>\n",
       "    </tr>\n",
       "    <tr>\n",
       "      <th>75%</th>\n",
       "      <td>97.500000</td>\n",
       "      <td>1988.500000</td>\n",
       "      <td>2.25000</td>\n",
       "    </tr>\n",
       "    <tr>\n",
       "      <th>max</th>\n",
       "      <td>112.000000</td>\n",
       "      <td>1992.000000</td>\n",
       "      <td>3.00000</td>\n",
       "    </tr>\n",
       "  </tbody>\n",
       "</table>\n",
       "</div>"
      ],
      "text/plain": [
       "           weight    birthyear  children\n",
       "count    3.000000     3.000000   2.00000\n",
       "mean    87.666667  1987.000000   1.50000\n",
       "std     22.368132     4.358899   2.12132\n",
       "min     68.000000  1984.000000   0.00000\n",
       "25%     75.500000  1984.500000   0.75000\n",
       "50%     83.000000  1985.000000   1.50000\n",
       "75%     97.500000  1988.500000   2.25000\n",
       "max    112.000000  1992.000000   3.00000"
      ]
     },
     "execution_count": 30,
     "metadata": {},
     "output_type": "execute_result"
    }
   ],
   "source": [
    "people.info()\n",
    "people.describe()"
   ]
  },
  {
   "cell_type": "markdown",
   "metadata": {
    "id": "eAg6j9eM4ySK"
   },
   "source": [
    "# <font color=darkblue> Part 3: Writing custom functions </font>"
   ]
  },
  {
   "cell_type": "code",
   "execution_count": 32,
   "metadata": {
    "id": "llqRhBEl4ySK"
   },
   "outputs": [],
   "source": [
    "#Importing libraries\n",
    "import os\n",
    "import tarfile\n",
    "import urllib\n",
    "import urllib.request\n",
    "\n",
    "#Defining URL and PATH constants\n",
    "DATA_URL = \"http://www.realclimate.org/data/senators_sunspots.txt\"\n",
    "DATA_PATH = os.path.join(\"datasets\", \"demo1DataSet\")"
   ]
  },
  {
   "cell_type": "code",
   "execution_count": 33,
   "metadata": {
    "colab": {
     "base_uri": "https://localhost:8080/"
    },
    "id": "xcMUBW8eAmS9",
    "outputId": "6193c174-f6d0-4adb-d968-d7f3fae9eb77"
   },
   "outputs": [
    {
     "name": "stdout",
     "output_type": "stream",
     "text": [
      "datasets/demo1DataSet\n"
     ]
    }
   ],
   "source": [
    "print(DATA_PATH)"
   ]
  },
  {
   "cell_type": "code",
   "execution_count": 34,
   "metadata": {
    "id": "Qv9DMZ9P4ySK"
   },
   "outputs": [],
   "source": [
    "# My custom function to fetch data from a web URL\n",
    "def fetch_data_from_url(data_url=DATA_URL, data_path=DATA_PATH):\n",
    "    if not os.path.isdir(data_path):\n",
    "        os.makedirs(data_path)\n",
    "    txt_path = os.path.join(data_path, \"demo1.txt\")\n",
    "    urllib\n",
    "    urllib.request.urlretrieve(data_url, txt_path)\n",
    "    txt_file = open(txt_path, \"r\")\n",
    "    print(txt_file.read())"
   ]
  },
  {
   "cell_type": "code",
   "execution_count": 35,
   "metadata": {
    "colab": {
     "base_uri": "https://localhost:8080/"
    },
    "id": "Ij2W3wpH4ySK",
    "outputId": "b4be9af8-2f2e-4bcd-9e27-6a179e4a6b1e"
   },
   "outputs": [
    {
     "name": "stdout",
     "output_type": "stream",
     "text": [
      "Republicans in Senate  (Since 1959)\n",
      "Year\n",
      "Number  \n",
      "Yr   Republicans_in_Senate\n",
      "1960 36\t\t\n",
      "1962 34\t\t\n",
      "1964 32\t\t\n",
      "1966 36\t\t\n",
      "1968 43\t\t\n",
      "1970 44\t\t\n",
      "1972 42\t\t\n",
      "1974 38\t\t\n",
      "1976 38\t\t\n",
      "1978 41\t\t\n",
      "1980 53\t\t\n",
      "1982 54\t\t\n",
      "1984 53\t\t\n",
      "1986 45\t\t\n",
      "1988 45 \n",
      "1990 44 \n",
      "1992 43  \n",
      "1994 52  \n",
      "1996 55   \n",
      "1998 55  \n",
      "2000 50 \n",
      "2002 51 \n",
      "2004 55  \n",
      "2006 49 \n",
      "\n",
      "YEARLY MEAN SUNSPOT NUMBERS\n",
      "Year\n",
      "Sunspot Number\n",
      "Yr  Sunspot_Number \n",
      "1960 112.3  \n",
      "1961  53.9  \n",
      "1962  37.6  \n",
      "1963  27.9  \n",
      "1964  10.2  \n",
      "1965  15.1  \n",
      "1966  47.0  \n",
      "1967  93.8  \n",
      "1968 105.9 \n",
      "1969 105.5 \n",
      "1970 104.5 \n",
      "1971  66.6  \n",
      "1972  68.9  \n",
      "1973  38.0  \n",
      "1974  34.5  \n",
      "1975  15.5  \n",
      "1976  12.6  \n",
      "1977  27.5  \n",
      "1978  92.5  \n",
      "1979 155.4 \n",
      "1980 154.6 \n",
      "1981 140.4 \n",
      "1982 115.9 \n",
      "1983  66.6  \n",
      "1984  45.9  \n",
      "1985  17.9  \n",
      "1986  13.4  \n",
      "1987  29.4  \n",
      "1988 100.2 \n",
      "1989 157.6 \n",
      "1990 142.6 \n",
      "1991 145.7 \n",
      "1992  94.3  \n",
      "1993  54.6  \n",
      "1994  29.9  \n",
      "1995  17.5  \n",
      "1996   8.6   \n",
      "1997  21.5  \n",
      "1998  64.3  \n",
      "1999  93.3  \n",
      "2000 119.6 \n",
      "2001 111.0 \n",
      "2002 104.0 \n",
      "2003  63.7  \n",
      "2004  40.4  \n",
      "2005  29.8  \n",
      "2006  15.2  \n",
      "\n",
      "Data sources:\t\t\t\t\t\t\t\t   \n",
      "ftp://ftp.ngdc.noaa.gov/STP/SOLAR_DATA/SUNSPOT_NUMBERS/YEARLY\n",
      "http://www.senate.gov/pagelayout/history/one_item_and_teasers/partydiv.htm\n",
      "\n",
      "Notes: \n",
      "Data are biennial (year of election) and don't take account of any between-election senatorial changes. Correlations were done on biennial data.\n",
      "\n"
     ]
    }
   ],
   "source": [
    "# Calling the custom fetch function\n",
    "fetch_data_from_url()"
   ]
  },
  {
   "cell_type": "code",
   "execution_count": 36,
   "metadata": {
    "id": "4k73NHlF4ySL"
   },
   "outputs": [],
   "source": [
    "# Import libraries\n",
    "import pandas as pd\n",
    "\n",
    "# My custom function to load data from the database\n",
    "def load_data(data_path=DATA_PATH):\n",
    "    print(DATA_PATH)\n",
    "    txt_path = os.path.join(data_path, \"demo1.txt\")\n",
    "    return pd.read_csv(txt_path)"
   ]
  },
  {
   "cell_type": "code",
   "execution_count": null,
   "metadata": {
    "colab": {
     "base_uri": "https://localhost:8080/",
     "height": 221
    },
    "id": "ShaR6f4U4ySL",
    "outputId": "fd9812b7-2486-406a-fe7b-74aa6111433f"
   },
   "outputs": [
    {
     "name": "stdout",
     "output_type": "stream",
     "text": [
      "datasets/demo1DataSet\n"
     ]
    },
    {
     "data": {
      "text/html": [
       "<div>\n",
       "<style scoped>\n",
       "    .dataframe tbody tr th:only-of-type {\n",
       "        vertical-align: middle;\n",
       "    }\n",
       "\n",
       "    .dataframe tbody tr th {\n",
       "        vertical-align: top;\n",
       "    }\n",
       "\n",
       "    .dataframe thead th {\n",
       "        text-align: right;\n",
       "    }\n",
       "</style>\n",
       "<table border=\"1\" class=\"dataframe\">\n",
       "  <thead>\n",
       "    <tr style=\"text-align: right;\">\n",
       "      <th></th>\n",
       "      <th>Republicans in Senate  (Since 1959)</th>\n",
       "    </tr>\n",
       "  </thead>\n",
       "  <tbody>\n",
       "    <tr>\n",
       "      <th>0</th>\n",
       "      <td>Year</td>\n",
       "    </tr>\n",
       "    <tr>\n",
       "      <th>1</th>\n",
       "      <td>Number</td>\n",
       "    </tr>\n",
       "    <tr>\n",
       "      <th>2</th>\n",
       "      <td>Yr   Republicans_in_Senate</td>\n",
       "    </tr>\n",
       "    <tr>\n",
       "      <th>3</th>\n",
       "      <td>1960 36\\t\\t</td>\n",
       "    </tr>\n",
       "    <tr>\n",
       "      <th>4</th>\n",
       "      <td>1962 34\\t\\t</td>\n",
       "    </tr>\n",
       "  </tbody>\n",
       "</table>\n",
       "</div>"
      ],
      "text/plain": [
       "  Republicans in Senate  (Since 1959)\n",
       "0                                Year\n",
       "1                            Number  \n",
       "2          Yr   Republicans_in_Senate\n",
       "3                         1960 36\\t\\t\n",
       "4                         1962 34\\t\\t"
      ]
     },
     "execution_count": 32,
     "metadata": {
      "tags": []
     },
     "output_type": "execute_result"
    }
   ],
   "source": [
    "# Verifying my data\n",
    "data = load_data()\n",
    "data.head()"
   ]
  },
  {
   "cell_type": "code",
   "execution_count": 42,
   "metadata": {},
   "outputs": [
    {
     "name": "stdout",
     "output_type": "stream",
     "text": [
      "[[ 540  660]\n",
      " [1080 1320]\n",
      " [1620 1980]]\n"
     ]
    }
   ],
   "source": [
    "\n"
   ]
  },
  {
   "cell_type": "code",
   "execution_count": null,
   "metadata": {},
   "outputs": [],
   "source": []
  }
 ],
 "metadata": {
  "colab": {
   "name": "Demo1.ipynb",
   "provenance": [],
   "toc_visible": true
  },
  "kernelspec": {
   "display_name": "Python 3",
   "language": "python",
   "name": "python3"
  },
  "language_info": {
   "codemirror_mode": {
    "name": "ipython",
    "version": 3
   },
   "file_extension": ".py",
   "mimetype": "text/x-python",
   "name": "python",
   "nbconvert_exporter": "python",
   "pygments_lexer": "ipython3",
   "version": "3.8.5"
  }
 },
 "nbformat": 4,
 "nbformat_minor": 1
}
