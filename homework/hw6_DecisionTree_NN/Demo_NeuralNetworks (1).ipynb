{
 "cells": [
  {
   "cell_type": "markdown",
   "metadata": {
    "id": "CzzudGjoPHge"
   },
   "source": [
    "# About Keras and Tensorflow\n",
    "\n",
    "[KERAS](https://keras.io/)\n",
    "\n",
    "Keras is a deep learning API written in Python, running on top of the machine learning platform TensorFlow. It was developed with a focus on enabling fast experimentation.\n",
    "\n",
    "[TENSORFLOW](https://www.tensorflow.org/)\n",
    "\n",
    "A core open source math library whics is used for neural networks. It offers a comprehensive ecosystem of commmunity recources, tools that facilitate building and training machine learning models.\n",
    "\n",
    "### Plus points of Keras\n",
    "1. User Friendly: Allows you to build your own models and easy to understand.\n",
    "2. Support for distributed training.\n",
    "3. Built in models as well as fast experimentation.\n",
    "4. Support on multiple backend Tensorflow, Theano and others.\n",
    "\n",
    "### Some isssue:\n",
    "1. Debugging is a headache\n",
    "2. Does not support lower level computation"
   ]
  },
  {
   "cell_type": "code",
   "execution_count": 1,
   "metadata": {
    "colab": {
     "base_uri": "https://localhost:8080/"
    },
    "id": "dn2gctFDIS3Z",
    "outputId": "08ce204a-e4f3-416f-ada7-d6e5a94b1e5a"
   },
   "outputs": [
    {
     "name": "stdout",
     "output_type": "stream",
     "text": [
      "Model: \"sequential\"\n",
      "_________________________________________________________________\n",
      "Layer (type)                 Output Shape              Param #   \n",
      "=================================================================\n",
      "dense (Dense)                (None, 4)                 16        \n",
      "_________________________________________________________________\n",
      "dense_1 (Dense)              (None, 1)                 5         \n",
      "=================================================================\n",
      "Total params: 21\n",
      "Trainable params: 21\n",
      "Non-trainable params: 0\n",
      "_________________________________________________________________\n",
      "None\n"
     ]
    }
   ],
   "source": [
    "from keras.models import Sequential\n",
    "model = Sequential()\n",
    "\n",
    "from keras.layers import Dense\n",
    "# Layer 1\n",
    "model.add(Dense(units=4, activation='sigmoid', input_dim=3))\n",
    "# Output Layer\n",
    "model.add(Dense(units=1, activation='sigmoid'))\n",
    "\n",
    "print(model.summary())\n"
   ]
  },
  {
   "cell_type": "code",
   "execution_count": 2,
   "metadata": {
    "id": "Y_wC-_Y_IS3b"
   },
   "outputs": [],
   "source": [
    "from keras import optimizers\n",
    "sgd = optimizers.SGD(lr=1)\n",
    "model.compile(loss='mean_squared_error', optimizer=sgd)"
   ]
  },
  {
   "cell_type": "code",
   "execution_count": null,
   "metadata": {
    "id": "EPNNpFA3IS3c"
   },
   "outputs": [],
   "source": [
    "import numpy as np\n",
    "# Fixing a random seed ensures reproducible results\n",
    "np.random.seed(9)\n",
    "\n",
    "X = np.array([[0,0,1],\n",
    "              [0,1,1],\n",
    "              [1,0,1],\n",
    "              [1,1,1]])\n",
    "y = np.array([[0],[1],[1],[0]])"
   ]
  },
  {
   "cell_type": "code",
   "execution_count": null,
   "metadata": {
    "colab": {
     "base_uri": "https://localhost:8080/"
    },
    "id": "C-GIPjqjIS3c",
    "outputId": "771c6c92-60f5-4fc5-dd2a-4844bb29ef44"
   },
   "outputs": [
    {
     "data": {
      "text/plain": [
       "<tensorflow.python.keras.callbacks.History at 0x7f51b21b29d0>"
      ]
     },
     "execution_count": 4,
     "metadata": {
      "tags": []
     },
     "output_type": "execute_result"
    }
   ],
   "source": [
    "model.fit(X, y, epochs=1500, verbose=False)"
   ]
  },
  {
   "cell_type": "code",
   "execution_count": null,
   "metadata": {
    "colab": {
     "base_uri": "https://localhost:8080/"
    },
    "id": "NCf64vIsIS3d",
    "outputId": "b6e89295-44f0-4ad7-b336-1cd236b2f1a4"
   },
   "outputs": [
    {
     "name": "stdout",
     "output_type": "stream",
     "text": [
      "[[0.05032244]\n",
      " [0.9230752 ]\n",
      " [0.9156965 ]\n",
      " [0.09113795]]\n"
     ]
    }
   ],
   "source": [
    "print(model.predict(X))\n"
   ]
  },
  {
   "cell_type": "code",
   "execution_count": 22,
   "metadata": {
    "id": "q52Z5BPiN78G"
   },
   "outputs": [],
   "source": [
    "import pandas as pd\n",
    "import numpy as np\n",
    "from sklearn.preprocessing import StandardScaler\n",
    "from sklearn import preprocessing \n",
    "def preprocess(df):\n",
    "  # print('----------------------------------------------')\n",
    "  # print(\"Before preprocessing\")\n",
    "  # print(\"Number of rows with 0 values for each variable\")\n",
    "  for col in df.columns:\n",
    "    # missing_rows=df.loc[df[col]==0].shape[0]\n",
    "    # print(col+\":\"+str(missing_rows))\n",
    "    # print('----------------------------------------------')\n",
    "\n",
    "    \n",
    "    # Replace 0 values with the mean of the existing values\n",
    "    df['Glucose']=df['Glucose'].replace(0, np.nan)\n",
    "    df['BloodPressure']=df['BloodPressure'].replace(0, np.nan)\n",
    "    df['SkinThickness']=df['SkinThickness'].replace(0, np.nan)\n",
    "    df['Insulin']=df['Insulin'].replace(0, np.nan)\n",
    "    df['BMI']=df['BMI'].replace(0, np.nan)\n",
    "    df['Glucose']=df['Glucose'].fillna(df['Glucose'].mean())\n",
    "    df['BloodPressure']=df['BloodPressure'].fillna(df['BloodPressure'].mean())\n",
    "    df['SkinThickness']=df['SkinThickness'].fillna(df['SkinThickness'].mean())\n",
    "    df['Insulin']=df['Insulin'].fillna(df['Insulin'].mean())\n",
    "    df['BMI']=df['BMI'].fillna(df['BMI'].mean())\n",
    "  #   print('----------------------------------------------')\n",
    "  #   print(\"After preprocessing\")\n",
    "  #   print(\"Number of rows with 0 values for each variable\")\n",
    "  #   for col in df.columns:\n",
    "  #     missing_rows=df.loc[df[col]==0].shape[0]\n",
    "  #     # print(col+\":\"+str(missing_rows))\n",
    "  #     # print('----------------------------------------------')\n",
    "  #     # Standardization\n",
    "  df_scaled=preprocessing.scale(df)\n",
    "  df_scaled=pd.DataFrame(df_scaled, columns=df.columns)\n",
    "  df_scaled['Outcome']=df['Outcome']\n",
    "  df=df_scaled\n",
    "  \n",
    "  return df"
   ]
  },
  {
   "cell_type": "code",
   "execution_count": 3,
   "metadata": {
    "colab": {
     "base_uri": "https://localhost:8080/"
    },
    "id": "67B-kH_-jZ3m",
    "outputId": "52db7971-b8f5-42fc-eb9e-77e4069632ba"
   },
   "outputs": [
    {
     "name": "stdout",
     "output_type": "stream",
     "text": [
      "Mounted at /content/drive\n"
     ]
    }
   ],
   "source": [
    "from google.colab import drive\n",
    "drive.mount('/content/drive')"
   ]
  },
  {
   "cell_type": "code",
   "execution_count": 23,
   "metadata": {
    "colab": {
     "base_uri": "https://localhost:8080/"
    },
    "id": "cvkGeaWcO89x",
    "outputId": "47280160-b58d-4588-ccd5-ec61151d3f84"
   },
   "outputs": [
    {
     "name": "stdout",
     "output_type": "stream",
     "text": [
      "Training Accuracy:88.93%\n",
      "\n",
      "Testing Accuracy:78.57%\n",
      "\n",
      "Model: \"sequential_8\"\n",
      "_________________________________________________________________\n",
      "Layer (type)                 Output Shape              Param #   \n",
      "=================================================================\n",
      "dense_23 (Dense)             (None, 32)                288       \n",
      "_________________________________________________________________\n",
      "dense_24 (Dense)             (None, 16)                528       \n",
      "_________________________________________________________________\n",
      "dense_25 (Dense)             (None, 1)                 17        \n",
      "=================================================================\n",
      "Total params: 833\n",
      "Trainable params: 833\n",
      "Non-trainable params: 0\n",
      "_________________________________________________________________\n"
     ]
    }
   ],
   "source": [
    "import tkinter\n",
    "import matplotlib \n",
    "matplotlib.use(\"TkAgg\")\n",
    "import pandas as pd \n",
    "import seaborn as sns\n",
    "from sklearn.model_selection import train_test_split\n",
    "from sklearn.metrics import confusion_matrix\n",
    "from sklearn.metrics import roc_curve\n",
    "from keras.models import Sequential \n",
    "from keras.layers import Dense \n",
    "import matplotlib.pyplot as plt\n",
    "import numpy as np \n",
    "np.random.seed(16)\n",
    "try:\n",
    "  df=pd.read_csv('/content/drive/MyDrive/Demos/diabetes.csv')\n",
    "except:\n",
    "  quit()\n",
    "# Perform preprocessing and feature engineering\n",
    "df = preprocess(df)\n",
    "# Split the data into a training and testing set\n",
    "X=df.loc[:, df.columns!='Outcome']\n",
    "y=df.loc[:,'Outcome']\n",
    "X_train, X_test, y_train, y_test=train_test_split(X, y, test_size=0.2)\n",
    "# Build neural network in Keras\n",
    "model=Sequential()\n",
    "model.add(Dense(32, activation='relu', input_dim=8))\n",
    "model.add(Dense(16, activation='relu'))\n",
    "model.add(Dense(1, activation='sigmoid'))\n",
    "model.compile(optimizer='adam', loss='binary_crossentropy',metrics=['accuracy'])\n",
    "model.fit(X_train, y_train, epochs=200, verbose=False)\n",
    "# Results - Accuracy\n",
    "scores=model.evaluate(X_train, y_train, verbose=False)\n",
    "print(\"Training Accuracy:%.2f%%\\n\"%(scores[1]*100))\n",
    "scores=model.evaluate(X_test, y_test, verbose=False)\n",
    "print(\"Testing Accuracy:%.2f%%\\n\"%(scores[1]*100))\n",
    "model.summary()"
   ]
  },
  {
   "cell_type": "code",
   "execution_count": 17,
   "metadata": {
    "colab": {
     "base_uri": "https://localhost:8080/",
     "height": 628
    },
    "id": "TcM52k1cQIDc",
    "outputId": "135fd5ec-c6db-476d-d68b-d5d1101ccf3f"
   },
   "outputs": [
    {
     "name": "stderr",
     "output_type": "stream",
     "text": [
      "/usr/local/lib/python3.7/dist-packages/tensorflow/python/keras/engine/sequential.py:450: UserWarning: `model.predict_classes()` is deprecated and will be removed after 2021-01-01. Please use instead:* `np.argmax(model.predict(x), axis=-1)`,   if your model does multi-class classification   (e.g. if it uses a `softmax` last-layer activation).* `(model.predict(x) > 0.5).astype(\"int32\")`,   if your model does binary classification   (e.g. if it uses a `sigmoid` last-layer activation).\n",
      "  warnings.warn('`model.predict_classes()` is deprecated and '\n"
     ]
    },
    {
     "data": {
      "image/png": "[encoded data removed]",
      "text/plain": [
       "<Figure size 432x288 with 1 Axes>"
      ]
     },
     "metadata": {
      "needs_background": "light",
      "tags": []
     },
     "output_type": "display_data"
    },
    {
     "data": {
      "image/png": "[encoded data removed]",
      "text/plain": [
       "<Figure size 432x288 with 1 Axes>"
      ]
     },
     "metadata": {
      "needs_background": "light",
      "tags": []
     },
     "output_type": "display_data"
    },
    {
     "data": {
      "text/plain": [
       "<Figure size 432x288 with 0 Axes>"
      ]
     },
     "metadata": {
      "tags": []
     },
     "output_type": "display_data"
    }
   ],
   "source": [
    "# Results - Confusion Matrix\n",
    "y_test_pred=model.predict_classes(X_test)\n",
    "c_matrix=confusion_matrix(y_test, y_test_pred)\n",
    "ax=sns.heatmap(c_matrix, annot=True, xticklabels=['No Diabetes','Diabetes'],yticklabels=['No Diabetes','Diabetes'], cbar=False, cmap='Blues')\n",
    "ax.set_xlabel(\"Prediction\")\n",
    "ax.set_ylabel(\"Actual\")\n",
    "plt.show()\n",
    "plt.clf()\n",
    "# Results - ROC Curve\n",
    "y_test_pred_probs=model.predict(X_test)\n",
    "FPR, TPR, _=roc_curve(y_test, y_test_pred_probs)\n",
    "plt.plot(FPR, TPR)\n",
    "plt.plot([0,1],[0,1],'--', color='black')\n",
    "#diagonal line\n",
    "plt.title('ROC Curve')\n",
    "plt.xlabel('False Positive Rate')\n",
    "plt.ylabel('True Positive Rate')\n",
    "plt.show()\n",
    "plt.clf()"
   ]
  }
 ],
 "metadata": {
  "colab": {
   "collapsed_sections": [],
   "name": "Demo - NeuralNetworks.ipynb",
   "provenance": []
  },
  "kernelspec": {
   "display_name": "Python 3",
   "language": "python",
   "name": "python3"
  },
  "language_info": {
   "codemirror_mode": {
    "name": "ipython",
    "version": 3
   },
   "file_extension": ".py",
   "mimetype": "text/x-python",
   "name": "python",
   "nbconvert_exporter": "python",
   "pygments_lexer": "ipython3",
   "version": "3.8.5"
  }
 },
 "nbformat": 4,
 "nbformat_minor": 4
}
