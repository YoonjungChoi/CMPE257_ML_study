{
 "cells": [
  {
   "cell_type": "markdown",
   "metadata": {
    "id": "4s26_9BlcaDz"
   },
   "source": [
    "**Load the Data**\n",
    "\n",
    "The Fashion-MNIST dataset is a dataset of Zalando's article images, with 28x28 grayscale images of 70,000 fashion products from 10 categories, and 7,000 images per category. The training set has 60,000 images, and the test set has 10,000 images.\n",
    "\n",
    "The train and test images along with the labels are loaded and stored in variables train_X, train_Y, test_X, test_Y"
   ]
  },
  {
   "cell_type": "code",
   "execution_count": 2,
   "metadata": {
    "colab": {
     "base_uri": "https://localhost:8080/"
    },
    "id": "VSU-BVrkVDfh",
    "outputId": "56b169dc-0865-4c83-9e85-8067f2a9415d"
   },
   "outputs": [
    {
     "name": "stdout",
     "output_type": "stream",
     "text": [
      "Downloading data from https://storage.googleapis.com/tensorflow/tf-keras-datasets/train-labels-idx1-ubyte.gz\n",
      "32768/29515 [=================================] - 0s 0us/step\n",
      "Downloading data from https://storage.googleapis.com/tensorflow/tf-keras-datasets/train-images-idx3-ubyte.gz\n",
      "26427392/26421880 [==============================] - 0s 0us/step\n",
      "Downloading data from https://storage.googleapis.com/tensorflow/tf-keras-datasets/t10k-labels-idx1-ubyte.gz\n",
      "8192/5148 [===============================================] - 0s 0us/step\n",
      "Downloading data from https://storage.googleapis.com/tensorflow/tf-keras-datasets/t10k-images-idx3-ubyte.gz\n",
      "4423680/4422102 [==============================] - 0s 0us/step\n"
     ]
    }
   ],
   "source": [
    "from keras.datasets import fashion_mnist\n",
    "(train_X,train_Y), (test_X,test_Y) = fashion_mnist.load_data()"
   ]
  },
  {
   "cell_type": "markdown",
   "metadata": {
    "id": "CGIxqotpdVaE"
   },
   "source": [
    "**Analyze the Data**\n",
    "\n"
   ]
  },
  {
   "cell_type": "code",
   "execution_count": 3,
   "metadata": {
    "colab": {
     "base_uri": "https://localhost:8080/"
    },
    "id": "gxyyJN5CVIjo",
    "outputId": "136d8100-95dd-4f88-dd8e-114136f8c0d8"
   },
   "outputs": [
    {
     "name": "stdout",
     "output_type": "stream",
     "text": [
      "Training data shape :  (60000, 28, 28) (60000,)\n",
      "Testing data shape :  (10000, 28, 28) (10000,)\n"
     ]
    }
   ],
   "source": [
    "import numpy as np\n",
    "from keras.utils import to_categorical\n",
    "import matplotlib.pyplot as plt\n",
    "%matplotlib inline\n",
    "\n",
    "print('Training data shape : ', train_X.shape, train_Y.shape)\n",
    "print('Testing data shape : ', test_X.shape, test_Y.shape)"
   ]
  },
  {
   "cell_type": "markdown",
   "metadata": {
    "id": "7O-4EWwBeCmO"
   },
   "source": [
    "From the above output, you can see that the training data has a shape of 60000 x 28 x 28 since there are 60,000 training samples each of 28 x 28 dimension. Similarly, the test data has a shape of 10000 x 28 x 28 since there are 10,000 testing samples."
   ]
  },
  {
   "cell_type": "code",
   "execution_count": 4,
   "metadata": {
    "colab": {
     "base_uri": "https://localhost:8080/"
    },
    "id": "8MJbbI2FVPsE",
    "outputId": "37266890-c0cf-47e8-d5c8-af840ae27086"
   },
   "outputs": [
    {
     "name": "stdout",
     "output_type": "stream",
     "text": [
      "Total number of outputs :  10\n",
      "Output classes :  [0 1 2 3 4 5 6 7 8 9]\n"
     ]
    }
   ],
   "source": [
    "# Find the unique numbers from the train labels\n",
    "classes = np.unique(train_Y)\n",
    "nClasses = len(classes)\n",
    "print('Total number of outputs : ', nClasses)\n",
    "print('Output classes : ', classes)"
   ]
  },
  {
   "cell_type": "markdown",
   "metadata": {
    "id": "0C5Zgpl4eON-"
   },
   "source": [
    "There's also a total of ten output classes that range from 0 to 9."
   ]
  },
  {
   "cell_type": "code",
   "execution_count": 5,
   "metadata": {
    "colab": {
     "base_uri": "https://localhost:8080/",
     "height": 207
    },
    "id": "pM6Iy6tIVT0M",
    "outputId": "1929061c-ef6f-4aa3-f0a9-f79363c2ac70"
   },
   "outputs": [
    {
     "data": {
      "text/plain": [
       "Text(0.5, 1.0, 'Ground Truth : 9')"
      ]
     },
     "execution_count": 5,
     "metadata": {
      "tags": []
     },
     "output_type": "execute_result"
    },
    {
     "data": {
      "image/png": "[encoded data removed]",
      "text/plain": [
       "<Figure size 360x360 with 2 Axes>"
      ]
     },
     "metadata": {
      "needs_background": "light",
      "tags": []
     },
     "output_type": "display_data"
    }
   ],
   "source": [
    "plt.figure(figsize=[5,5])\n",
    "\n",
    "# Display the first image in training data\n",
    "plt.subplot(121)\n",
    "plt.imshow(train_X[0,:,:], cmap='gray')\n",
    "plt.title(\"Ground Truth : {}\".format(train_Y[0]))\n",
    "\n",
    "# Display the first image in testing data\n",
    "plt.subplot(122)\n",
    "plt.imshow(test_X[0,:,:], cmap='gray')\n",
    "plt.title(\"Ground Truth : {}\".format(test_Y[0]))\n"
   ]
  },
  {
   "cell_type": "markdown",
   "metadata": {
    "id": "bKFWQtjVeVZe"
   },
   "source": [
    "The output of above two plots looks like an ankle boot, and this class is assigned a class label of 9. Similarly, other fashion products will have different labels, but similar products will have same labels. This means that all the 7,000 ankle boot images will have a class label of 9.\n",
    "\n",
    "Data Preprocessing"
   ]
  },
  {
   "cell_type": "code",
   "execution_count": 6,
   "metadata": {
    "colab": {
     "base_uri": "https://localhost:8080/"
    },
    "id": "vyxVqWgoViJ-",
    "outputId": "30b8536c-47b3-4641-aa4a-fea7149492cd"
   },
   "outputs": [
    {
     "data": {
      "text/plain": [
       "((60000, 28, 28, 1), (10000, 28, 28, 1))"
      ]
     },
     "execution_count": 6,
     "metadata": {
      "tags": []
     },
     "output_type": "execute_result"
    }
   ],
   "source": [
    "train_X = train_X.reshape(-1, 28,28, 1)\n",
    "test_X = test_X.reshape(-1, 28,28, 1)\n",
    "train_X.shape, test_X.shape"
   ]
  },
  {
   "cell_type": "markdown",
   "metadata": {
    "id": "CytYTUKXe2xH"
   },
   "source": [
    "The data right now is in an int8 format, so before you feed it into the network you need to convert its type to float32, and you also have to rescale the pixel values in range 0 - 1 inclusive."
   ]
  },
  {
   "cell_type": "code",
   "execution_count": 7,
   "metadata": {
    "id": "EQXN9U9eVlhm"
   },
   "outputs": [],
   "source": [
    "train_X = train_X.astype('float32')\n",
    "test_X = test_X.astype('float32')\n",
    "train_X = train_X / 255.\n",
    "test_X = test_X / 255."
   ]
  },
  {
   "cell_type": "markdown",
   "metadata": {
    "id": "ENwVqpCke_05"
   },
   "source": [
    "Now you need to convert the class labels into a one-hot encoding vector.\n",
    "\n",
    "In one-hot encoding, you convert the categorical data into a vector of numbers. The reason why you convert the categorical data in one hot encoding is that machine learning algorithms cannot work with categorical data directly. You generate one boolean column for each category or class. Only one of these columns could take on the value 1 for each sample. Hence, the term one-hot encoding."
   ]
  },
  {
   "cell_type": "code",
   "execution_count": 8,
   "metadata": {
    "colab": {
     "base_uri": "https://localhost:8080/"
    },
    "id": "Eby-4Z-_Vud7",
    "outputId": "8d4d8a5b-9bfb-4884-f104-a8bed0eb3b96"
   },
   "outputs": [
    {
     "name": "stdout",
     "output_type": "stream",
     "text": [
      "Original label: 9\n",
      "After conversion to one-hot: [0. 0. 0. 0. 0. 0. 0. 0. 0. 1.]\n"
     ]
    }
   ],
   "source": [
    "# Change the labels from categorical to one-hot encoding\n",
    "train_Y_one_hot = to_categorical(train_Y)\n",
    "test_Y_one_hot = to_categorical(test_Y)\n",
    "\n",
    "# Display the change for category label using one-hot encoding\n",
    "print('Original label:', train_Y[0])\n",
    "print('After conversion to one-hot:', train_Y_one_hot[0])"
   ]
  },
  {
   "cell_type": "markdown",
   "metadata": {
    "id": "haE4UtwxgEIz"
   },
   "source": [
    "**Create and check shape of training and validation set.**"
   ]
  },
  {
   "cell_type": "code",
   "execution_count": 9,
   "metadata": {
    "id": "uSzgnUqHV1xu"
   },
   "outputs": [],
   "source": [
    "from sklearn.model_selection import train_test_split\n",
    "train_X,valid_X,train_label,valid_label = train_test_split(train_X, train_Y_one_hot, test_size=0.2, random_state=13)"
   ]
  },
  {
   "cell_type": "code",
   "execution_count": 10,
   "metadata": {
    "colab": {
     "base_uri": "https://localhost:8080/"
    },
    "id": "YDx-g4bgV6R2",
    "outputId": "d7b25dc5-459d-4be3-9060-44683c5d5881"
   },
   "outputs": [
    {
     "data": {
      "text/plain": [
       "((48000, 28, 28, 1), (12000, 28, 28, 1), (48000, 10), (12000, 10))"
      ]
     },
     "execution_count": 10,
     "metadata": {
      "tags": []
     },
     "output_type": "execute_result"
    }
   ],
   "source": [
    "train_X.shape,valid_X.shape,train_label.shape,valid_label.shape"
   ]
  },
  {
   "cell_type": "markdown",
   "metadata": {
    "id": "wkyGMT3ggkjV"
   },
   "source": [
    "**The Network**\n",
    "\n",
    "The images are of size 28 x 28. You convert the image matrix to an array, rescale it between 0 and 1, reshape it so that it's of size 28 x 28 x 1, and feed this as an input to the network.\n",
    "\n",
    "Three convolutional layers:\n",
    "\n",
    "The first layer will have 32-3 x 3 filters,\n",
    "The second layer will have 64-3 x 3 filters and\n",
    "The third layer will have 128-3 x 3 filters.\n",
    "In addition, there are three max-pooling layers each of size 2 x 2."
   ]
  },
  {
   "cell_type": "code",
   "execution_count": 12,
   "metadata": {
    "id": "BWpVoUwrWCwO"
   },
   "outputs": [],
   "source": [
    "import keras\n",
    "from keras.models import Sequential,Input,Model\n",
    "from keras.layers import Dense, Dropout, Flatten\n",
    "from keras.layers import Conv2D, MaxPooling2D\n",
    "from keras.layers.normalization import BatchNormalization\n",
    "from keras.layers.advanced_activations import LeakyReLU"
   ]
  },
  {
   "cell_type": "markdown",
   "metadata": {
    "id": "Ks5RD6Czg2Jy"
   },
   "source": [
    "Set parameters.\n",
    "\n",
    "We will use a batch size of 64 using a higher batch size of 128 or 256 is also preferable it all depends on the memory. It contributes massively to determining the learning parameters and affects the prediction accuracy. You will train the network for 20 epochs."
   ]
  },
  {
   "cell_type": "code",
   "execution_count": 13,
   "metadata": {
    "id": "9RCGrqneWGYN"
   },
   "outputs": [],
   "source": [
    "batch_size = 64\n",
    "epochs = 20\n",
    "num_classes = 10"
   ]
  },
  {
   "cell_type": "markdown",
   "metadata": {
    "id": "A5PIIftug_Zn"
   },
   "source": [
    "**Neural Network Architecture**"
   ]
  },
  {
   "cell_type": "code",
   "execution_count": 14,
   "metadata": {
    "id": "f-3AsRibWJw9"
   },
   "outputs": [],
   "source": [
    "fashion_model = Sequential()\n",
    "fashion_model.add(Conv2D(32, kernel_size=(3, 3),activation='linear',input_shape=(28,28,1),padding='same'))\n",
    "fashion_model.add(LeakyReLU(alpha=0.1))\n",
    "fashion_model.add(MaxPooling2D((2, 2),padding='same'))\n",
    "fashion_model.add(Conv2D(64, (3, 3), activation='linear',padding='same'))\n",
    "fashion_model.add(LeakyReLU(alpha=0.1))\n",
    "fashion_model.add(MaxPooling2D(pool_size=(2, 2),padding='same'))\n",
    "fashion_model.add(Conv2D(128, (3, 3), activation='linear',padding='same'))\n",
    "fashion_model.add(LeakyReLU(alpha=0.1))                  \n",
    "fashion_model.add(MaxPooling2D(pool_size=(2, 2),padding='same'))\n",
    "fashion_model.add(Flatten())\n",
    "fashion_model.add(Dense(128, activation='linear'))\n",
    "fashion_model.add(LeakyReLU(alpha=0.1))                  \n",
    "fashion_model.add(Dense(num_classes, activation='softmax'))"
   ]
  },
  {
   "cell_type": "markdown",
   "metadata": {
    "id": "FqIKAdGDnUX7"
   },
   "source": [
    "First add a first convolutional layer with Conv2D(). Because we're working with images! \n",
    "\n",
    "Next, add the Leaky ReLU activation function which helps the network learn non-linear decision boundaries. Since we have ten different classes, you'll need a non-linear decision boundary that could separate these ten classes which are not linearly separable.\n",
    "\n",
    "The ReLU activation function is used instead of logistic sigmoid function.\n",
    "\n",
    "Next, we'll add the max-pooling layer with MaxPooling2D() and so on.In this layer we shrink the image stack into a smaller size. Pooling is done after passing through the activation layer.\n",
    "\n",
    "The last layer is a Dense layer that has a softmax activation function with 10 units, which is needed for this multi-class classification problem."
   ]
  },
  {
   "cell_type": "markdown",
   "metadata": {
    "id": "hb1dj4sbWYIj"
   },
   "source": [
    "**Compile the Model**\n",
    "\n",
    "After the model is created, we compile it using the Adam optimizer, one of the most popular optimization algorithms. Additionally, you specify the loss type which is categorical cross entropy which is used for multi-class classification, you can also use binary cross-entropy as the loss function. Lastly, we specify the metrics as accuracy which you want to analyze while the model is training."
   ]
  },
  {
   "cell_type": "code",
   "execution_count": 15,
   "metadata": {
    "id": "10PHoNLHWTfT"
   },
   "outputs": [],
   "source": [
    "fashion_model.compile(loss=keras.losses.categorical_crossentropy, optimizer=keras.optimizers.Adam(),metrics=['accuracy'])"
   ]
  },
  {
   "cell_type": "code",
   "execution_count": 16,
   "metadata": {
    "colab": {
     "base_uri": "https://localhost:8080/"
    },
    "id": "x8399ozeWaDL",
    "outputId": "1b33fb0d-fb77-45c1-a2ca-120c3060f9a3"
   },
   "outputs": [
    {
     "name": "stdout",
     "output_type": "stream",
     "text": [
      "Model: \"sequential\"\n",
      "_________________________________________________________________\n",
      "Layer (type)                 Output Shape              Param #   \n",
      "=================================================================\n",
      "conv2d (Conv2D)              (None, 28, 28, 32)        320       \n",
      "_________________________________________________________________\n",
      "leaky_re_lu (LeakyReLU)      (None, 28, 28, 32)        0         \n",
      "_________________________________________________________________\n",
      "max_pooling2d (MaxPooling2D) (None, 14, 14, 32)        0         \n",
      "_________________________________________________________________\n",
      "conv2d_1 (Conv2D)            (None, 14, 14, 64)        18496     \n",
      "_________________________________________________________________\n",
      "leaky_re_lu_1 (LeakyReLU)    (None, 14, 14, 64)        0         \n",
      "_________________________________________________________________\n",
      "max_pooling2d_1 (MaxPooling2 (None, 7, 7, 64)          0         \n",
      "_________________________________________________________________\n",
      "conv2d_2 (Conv2D)            (None, 7, 7, 128)         73856     \n",
      "_________________________________________________________________\n",
      "leaky_re_lu_2 (LeakyReLU)    (None, 7, 7, 128)         0         \n",
      "_________________________________________________________________\n",
      "max_pooling2d_2 (MaxPooling2 (None, 4, 4, 128)         0         \n",
      "_________________________________________________________________\n",
      "flatten (Flatten)            (None, 2048)              0         \n",
      "_________________________________________________________________\n",
      "dense (Dense)                (None, 128)               262272    \n",
      "_________________________________________________________________\n",
      "leaky_re_lu_3 (LeakyReLU)    (None, 128)               0         \n",
      "_________________________________________________________________\n",
      "dense_1 (Dense)              (None, 10)                1290      \n",
      "=================================================================\n",
      "Total params: 356,234\n",
      "Trainable params: 356,234\n",
      "Non-trainable params: 0\n",
      "_________________________________________________________________\n"
     ]
    }
   ],
   "source": [
    "fashion_model.summary()"
   ]
  },
  {
   "cell_type": "markdown",
   "metadata": {
    "id": "RMHlhh7gWm1O"
   },
   "source": [
    "**Train the Model**"
   ]
  },
  {
   "cell_type": "code",
   "execution_count": 17,
   "metadata": {
    "colab": {
     "base_uri": "https://localhost:8080/"
    },
    "id": "A5fOuF-yWh2Q",
    "outputId": "82cf88d1-6e78-4072-91e7-06cbda927a4b"
   },
   "outputs": [
    {
     "name": "stdout",
     "output_type": "stream",
     "text": [
      "Epoch 1/20\n",
      "750/750 [==============================] - 80s 106ms/step - loss: 0.6844 - accuracy: 0.7485 - val_loss: 0.3623 - val_accuracy: 0.8653\n",
      "Epoch 2/20\n",
      "750/750 [==============================] - 79s 106ms/step - loss: 0.3016 - accuracy: 0.8916 - val_loss: 0.2801 - val_accuracy: 0.8967\n",
      "Epoch 3/20\n",
      "750/750 [==============================] - 80s 106ms/step - loss: 0.2418 - accuracy: 0.9122 - val_loss: 0.2451 - val_accuracy: 0.9103\n",
      "Epoch 4/20\n",
      "750/750 [==============================] - 80s 106ms/step - loss: 0.2053 - accuracy: 0.9252 - val_loss: 0.2356 - val_accuracy: 0.9136\n",
      "Epoch 5/20\n",
      "750/750 [==============================] - 80s 106ms/step - loss: 0.1783 - accuracy: 0.9329 - val_loss: 0.2234 - val_accuracy: 0.9189\n",
      "Epoch 6/20\n",
      "750/750 [==============================] - 80s 106ms/step - loss: 0.1521 - accuracy: 0.9433 - val_loss: 0.2419 - val_accuracy: 0.9153\n",
      "Epoch 7/20\n",
      "750/750 [==============================] - 80s 106ms/step - loss: 0.1353 - accuracy: 0.9481 - val_loss: 0.2401 - val_accuracy: 0.9170\n",
      "Epoch 8/20\n",
      "750/750 [==============================] - 79s 106ms/step - loss: 0.1121 - accuracy: 0.9590 - val_loss: 0.2353 - val_accuracy: 0.9211\n",
      "Epoch 9/20\n",
      "750/750 [==============================] - 79s 106ms/step - loss: 0.0927 - accuracy: 0.9643 - val_loss: 0.2365 - val_accuracy: 0.9237\n",
      "Epoch 10/20\n",
      "750/750 [==============================] - 80s 107ms/step - loss: 0.0812 - accuracy: 0.9696 - val_loss: 0.2529 - val_accuracy: 0.9237\n",
      "Epoch 11/20\n",
      "750/750 [==============================] - 81s 108ms/step - loss: 0.0684 - accuracy: 0.9742 - val_loss: 0.2646 - val_accuracy: 0.9264\n",
      "Epoch 12/20\n",
      "750/750 [==============================] - 80s 107ms/step - loss: 0.0551 - accuracy: 0.9797 - val_loss: 0.2837 - val_accuracy: 0.9243\n",
      "Epoch 13/20\n",
      "750/750 [==============================] - 81s 107ms/step - loss: 0.0513 - accuracy: 0.9815 - val_loss: 0.3493 - val_accuracy: 0.9189\n",
      "Epoch 14/20\n",
      "750/750 [==============================] - 81s 108ms/step - loss: 0.0420 - accuracy: 0.9851 - val_loss: 0.3354 - val_accuracy: 0.9195\n",
      "Epoch 15/20\n",
      "750/750 [==============================] - 81s 108ms/step - loss: 0.0389 - accuracy: 0.9846 - val_loss: 0.3662 - val_accuracy: 0.9188\n",
      "Epoch 16/20\n",
      "750/750 [==============================] - 81s 108ms/step - loss: 0.0333 - accuracy: 0.9881 - val_loss: 0.3943 - val_accuracy: 0.9233\n",
      "Epoch 17/20\n",
      "750/750 [==============================] - 81s 108ms/step - loss: 0.0326 - accuracy: 0.9877 - val_loss: 0.4161 - val_accuracy: 0.9193\n",
      "Epoch 18/20\n",
      "750/750 [==============================] - 81s 108ms/step - loss: 0.0265 - accuracy: 0.9902 - val_loss: 0.4277 - val_accuracy: 0.9211\n",
      "Epoch 19/20\n",
      "750/750 [==============================] - 81s 108ms/step - loss: 0.0280 - accuracy: 0.9897 - val_loss: 0.4552 - val_accuracy: 0.9210\n",
      "Epoch 20/20\n",
      "750/750 [==============================] - 80s 107ms/step - loss: 0.0292 - accuracy: 0.9889 - val_loss: 0.4668 - val_accuracy: 0.9192\n"
     ]
    }
   ],
   "source": [
    "fashion_train = fashion_model.fit(train_X, train_label, batch_size=batch_size,epochs=epochs,verbose=1,validation_data=(valid_X, valid_label))"
   ]
  },
  {
   "cell_type": "markdown",
   "metadata": {
    "id": "BluMEkjlW2Cy"
   },
   "source": [
    "**Model Evaluation on the Test Set**"
   ]
  },
  {
   "cell_type": "code",
   "execution_count": 18,
   "metadata": {
    "colab": {
     "base_uri": "https://localhost:8080/"
    },
    "id": "f-sk3ORfWqj5",
    "outputId": "4a0369ca-61a7-4b93-d5f1-8d1e8f1f4042"
   },
   "outputs": [
    {
     "name": "stdout",
     "output_type": "stream",
     "text": [
      "Test accuracy: 0.9143999814987183\n"
     ]
    }
   ],
   "source": [
    "test_eval = fashion_model.evaluate(test_X, test_Y_one_hot, verbose=0)\n",
    "print('Test accuracy:', test_eval[1])"
   ]
  },
  {
   "cell_type": "markdown",
   "metadata": {
    "id": "dCmxgIa3XP3v"
   },
   "source": [
    "**Reference:**\n",
    "\n",
    "https://www.tensorflow.org/tutorials/generative/style_transfer\n",
    "\n",
    "https://towardsdatascience.com/build-your-own-convolution-neural-network-in-5-mins-4217c2cf964f\n",
    "\n",
    "https://www.edureka.co/blog/convolutional-neural-network/\n",
    "\n",
    "https://www.datacamp.com/community/tutorials/convolutional-neural-networks-python"
   ]
  }
 ],
 "metadata": {
  "colab": {
   "name": "CNN_Demo.ipynb",
   "provenance": []
  },
  "kernelspec": {
   "display_name": "Python 3",
   "language": "python",
   "name": "python3"
  },
  "language_info": {
   "codemirror_mode": {
    "name": "ipython",
    "version": 3
   },
   "file_extension": ".py",
   "mimetype": "text/x-python",
   "name": "python",
   "nbconvert_exporter": "python",
   "pygments_lexer": "ipython3",
   "version": "3.8.5"
  }
 },
 "nbformat": 4,
 "nbformat_minor": 4
}
