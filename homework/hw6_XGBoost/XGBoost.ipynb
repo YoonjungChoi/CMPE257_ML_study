{
 "cells": [
  {
   "cell_type": "markdown",
   "metadata": {
    "id": "vAIYjjuMd_KM"
   },
   "source": [
    "### Please follow the instructions given in the class"
   ]
  },
  {
   "cell_type": "markdown",
   "metadata": {
    "id": "5I9eGsDLeDkz"
   },
   "source": [
    "XGBoost"
   ]
  },
  {
   "cell_type": "code",
   "execution_count": 1,
   "metadata": {
    "id": "fz4MR-mAeFhw"
   },
   "outputs": [],
   "source": [
    "#Import XGBoost, Pandas, and sklearn for the function that we will use to calculate the accuracy. \n",
    "#The accuracy is required to understand how our model is performing.\n",
    "\n",
    "from sklearn.model_selection import train_test_split \n",
    "import pandas as pd  \n",
    "from sklearn.metrics import accuracy_score\n",
    "import numpy as np\n",
    "import xgboost as xgb"
   ]
  },
  {
   "cell_type": "code",
   "execution_count": 2,
   "metadata": {
    "id": "avgD9WNheIDk"
   },
   "outputs": [],
   "source": [
    "#Import the wholesale customer dataset - 1 point\n",
    "\n",
    "data = pd.read_csv(\"wholesale-data.csv\")\n",
    "X = data.iloc[:, 1:]\n",
    "y = data.iloc[:, 0:1]\n",
    "features=X.columns.values\n",
    "target=y.columns.values  "
   ]
  },
  {
   "cell_type": "code",
   "execution_count": 3,
   "metadata": {
    "id": "7UW6TgjjeQhP"
   },
   "outputs": [],
   "source": [
    "#Create training and test sets - 80:20 - 1 point\n",
    "X_train, X_test, y_train, y_test = train_test_split(X, y, random_state=42)"
   ]
  },
  {
   "cell_type": "code",
   "execution_count": 4,
   "metadata": {
    "id": "gDfMIZc7fGL_"
   },
   "outputs": [],
   "source": [
    "#Convert the pandas dataframe into a DMatrix, an internal data structure that is used by XGBoost to store training and testing datasets.\n",
    "# - 2 points\n",
    "dtrain = xgb.DMatrix(X_train, label=y_train)\n",
    "dtest = xgb.DMatrix(X_test, label=y_test) "
   ]
  },
  {
   "cell_type": "code",
   "execution_count": 29,
   "metadata": {
    "id": "GvJv3uAEfLP2"
   },
   "outputs": [
    {
     "name": "stderr",
     "output_type": "stream",
     "text": [
      "/Users/myungjong/opt/anaconda3/envs/p37env/lib/python3.7/site-packages/sklearn/utils/validation.py:63: DataConversionWarning: A column-vector y was passed when a 1d array was expected. Please change the shape of y to (n_samples, ), for example using ravel().\n",
      "  return f(*args, **kwargs)\n"
     ]
    },
    {
     "data": {
      "text/plain": [
       "'\\nOBJECTIVE \\n- binary:logistic target should be 0 or 1, but this case target 1 or 2.\\n- multi:softmax: set XGBoost to do multiclass classification using the softmax objective, you also need to set num_class(number of classes)\\n- multi:softprob: same as softmax, but output a vector of ndata * nclass, which can be further reshaped to ndata * nclass matrix. The result contains predicted probability of each data point belonging to each class.\\n\\nmetrics\\n- mlogloss :  Log loss penalizes false classifications by taking into account the probability of classification. \\n- merror: Multiclass classification error rate. It is calculated as #(wrong cases)/#(all cases).\\n'"
      ]
     },
     "execution_count": 29,
     "metadata": {},
     "output_type": "execute_result"
    }
   ],
   "source": [
    "#Specify the training parameters and train the model. - 4 points\n",
    "\n",
    "# option 1\n",
    "param = {\n",
    "    'learning_rate': 0.1,\n",
    "    'max_depth': 5,  # the maximum depth of each tree\n",
    "    'eta': 0.01,  # the training step for each iteration\n",
    "    'silent': 1,  # logging mode - quiet\n",
    "    'objective': 'multi:softprob',  # error evaluation for multiclass training\n",
    "    'num_class': 3}  # the number of classes that exist in this datset \n",
    "num_round = 1000\n",
    "booster = xgb.train(param, dtrain, num_round)\n",
    "\n",
    "\n",
    "# option 2\n",
    "xgbcli = xgb.XGBClassifier(learning_rate =0.1,\n",
    "                           n_estimators=1000, \n",
    "                           max_depth=6, \n",
    "                           min_child_weight=1, \n",
    "                           gamma=0, \n",
    "                           subsample=0.8, \n",
    "                           colsample_bytree=0.8, \n",
    "                           objective= 'multi:softprob',\n",
    "                           num_class= 3,\n",
    "                           nthread=4, \n",
    "                           scale_pos_weight=1,\n",
    "                           seed=27) \n",
    " \n",
    "#xgbcli.fit(X_train, y_train) \n",
    "gb_param = xgbcli.get_xgb_params() \n",
    "cvresult = xgb.cv(gb_param, dtrain, num_boost_round=xgbcli.get_params()['n_estimators'], nfold=5, metrics='mlogloss', early_stopping_rounds=50, verbose_eval=False)\n",
    "xgbcli.set_params(n_estimators=cvresult.shape[0])\n",
    "\n",
    "xgbcli.fit(X_train, y_train, eval_metric='mlogloss')\n",
    "\n",
    "\n",
    "\n",
    "'''\n",
    "OBJECTIVE \n",
    "- binary:logistic target should be 0 or 1, but this case target 1 or 2.\n",
    "- multi:softmax: set XGBoost to do multiclass classification using the softmax objective, you also need to set num_class(number of classes)\n",
    "- multi:softprob: same as softmax, but output a vector of ndata * nclass, which can be further reshaped to ndata * nclass matrix. The result contains predicted probability of each data point belonging to each class.\n",
    "\n",
    "metrics\n",
    "- mlogloss :  Log loss penalizes false classifications by taking into account the probability of classification. \n",
    "- merror: Multiclass classification error rate. It is calculated as #(wrong cases)/#(all cases).\n",
    "'''\n",
    "\n"
   ]
  },
  {
   "cell_type": "code",
   "execution_count": 30,
   "metadata": {
    "id": "shj4kSw8fP-n"
   },
   "outputs": [],
   "source": [
    "#Predict the \"Channel\" values of the test set using the model that we just created. - 1 point\n",
    "preds = booster.predict(dtest)\n",
    "y_pred = xgbcli.predict(X_test) "
   ]
  },
  {
   "cell_type": "code",
   "execution_count": 31,
   "metadata": {
    "id": "BL0_-K71fShz"
   },
   "outputs": [
    {
     "name": "stdout",
     "output_type": "stream",
     "text": [
      "1 option 1's result: \n",
      "\n",
      "pre_score: 89.42857142857143\n",
      "acc_score: 91.81818181818183\n",
      "\n",
      "\n",
      "\n",
      " 2. option 2's result: \n",
      "              precision    recall  f1-score   support\n",
      "\n",
      "          c1       0.97      0.90      0.93        78\n",
      "          c2       0.79      0.94      0.86        32\n",
      "\n",
      "    accuracy                           0.91       110\n",
      "   macro avg       0.88      0.92      0.90       110\n",
      "weighted avg       0.92      0.91      0.91       110\n",
      "\n",
      "Mean cross-validation score: 0.92\n"
     ]
    }
   ],
   "source": [
    "#Get the accuracy of the model that we have trained for the test dataset. - 1 point\n",
    "from sklearn.metrics import precision_score, accuracy_score, classification_report\n",
    "from sklearn.model_selection import cross_val_score\n",
    "\n",
    "print(\"1 option 1's result: \\n\")\n",
    "best_preds = np.asarray([np.argmax(line) for line in preds])\n",
    "#print(best_preds)\n",
    "pre_score = precision_score(y_test, best_preds, average='macro')\n",
    "print(\"pre_score: {0}\".format(pre_score*100))\n",
    "acc_score = accuracy_score(y_test , best_preds)\n",
    "print(\"acc_score: {0}\".format(acc_score*100))\n",
    " \n",
    "\n",
    "print(\"\\n\\n\\n 2. option 2's result: \")\n",
    "print(classification_report(y_test, y_pred, target_names=['c1','c2']))\n",
    "\n",
    "scores = cross_val_score(xgbcli, X_train, y_train.values.ravel(), cv=5)\n",
    "print(\"Mean cross-validation score: %.2f\" % scores.mean())"
   ]
  },
  {
   "cell_type": "code",
   "execution_count": null,
   "metadata": {},
   "outputs": [],
   "source": []
  },
  {
   "cell_type": "code",
   "execution_count": null,
   "metadata": {},
   "outputs": [],
   "source": []
  }
 ],
 "metadata": {
  "colab": {
   "authorship_tag": "ABX9TyOqL4BHwoUesuYpNcxAfEJd",
   "collapsed_sections": [],
   "name": "XGBoost.ipynb",
   "provenance": []
  },
  "kernelspec": {
   "display_name": "Python 3",
   "language": "python",
   "name": "python3"
  },
  "language_info": {
   "codemirror_mode": {
    "name": "ipython",
    "version": 3
   },
   "file_extension": ".py",
   "mimetype": "text/x-python",
   "name": "python",
   "nbconvert_exporter": "python",
   "pygments_lexer": "ipython3",
   "version": "3.8.5"
  }
 },
 "nbformat": 4,
 "nbformat_minor": 4
}
