{
 "cells": [
  {
   "cell_type": "markdown",
   "metadata": {
    "id": "MtjXfJkeY4rJ"
   },
   "source": [
    "**Voting Classifier** "
   ]
  },
  {
   "cell_type": "code",
   "execution_count": 1,
   "metadata": {
    "executionInfo": {
     "elapsed": 372,
     "status": "ok",
     "timestamp": 1602199944178,
     "user": {
      "displayName": "Hari Manasa",
      "photoUrl": "https://lh3.googleusercontent.com/a-/AOh14Gj5CvP6OvhAkbWi3_EoABioQBARgoglxUQ_VSccWX8=s64",
      "userId": "10271571870412479017"
     },
     "user_tz": 420
    },
    "id": "kodSiZUePb3W"
   },
   "outputs": [],
   "source": [
    "from sklearn.ensemble import RandomForestClassifier\n",
    "from sklearn.ensemble import RandomForestClassifier\n",
    "from sklearn.ensemble import VotingClassifier\n",
    "from sklearn.linear_model import LogisticRegression\n",
    "from sklearn.svm import SVC\n",
    "import pandas as pd"
   ]
  },
  {
   "cell_type": "code",
   "execution_count": 2,
   "metadata": {
    "executionInfo": {
     "elapsed": 439,
     "status": "ok",
     "timestamp": 1602199946342,
     "user": {
      "displayName": "Hari Manasa",
      "photoUrl": "https://lh3.googleusercontent.com/a-/AOh14Gj5CvP6OvhAkbWi3_EoABioQBARgoglxUQ_VSccWX8=s64",
      "userId": "10271571870412479017"
     },
     "user_tz": 420
    },
    "id": "FhiA4nYzQTFN"
   },
   "outputs": [],
   "source": [
    "from sklearn.model_selection import train_test_split\n",
    "from sklearn.datasets import make_moons\n",
    "\n",
    "X, y = make_moons(n_samples=500, noise=0.30, random_state=42)\n",
    "X_train, X_test, y_train, y_test = train_test_split(X, y, random_state=42)"
   ]
  },
  {
   "cell_type": "code",
   "execution_count": 29,
   "metadata": {
    "executionInfo": {
     "elapsed": 690,
     "status": "ok",
     "timestamp": 1602199947729,
     "user": {
      "displayName": "Hari Manasa",
      "photoUrl": "https://lh3.googleusercontent.com/a-/AOh14Gj5CvP6OvhAkbWi3_EoABioQBARgoglxUQ_VSccWX8=s64",
      "userId": "10271571870412479017"
     },
     "user_tz": 420
    },
    "id": "MBYM7P5tPzg3"
   },
   "outputs": [],
   "source": [
    "log_clf = LogisticRegression(solver=\"lbfgs\", random_state=42)\n",
    "rnd_clf = RandomForestClassifier(n_estimators=500, random_state=42)\n",
    "svm_clf = SVC(gamma=\"scale\", random_state=42)"
   ]
  },
  {
   "cell_type": "code",
   "execution_count": 30,
   "metadata": {
    "executionInfo": {
     "elapsed": 1047,
     "status": "ok",
     "timestamp": 1602199949097,
     "user": {
      "displayName": "Hari Manasa",
      "photoUrl": "https://lh3.googleusercontent.com/a-/AOh14Gj5CvP6OvhAkbWi3_EoABioQBARgoglxUQ_VSccWX8=s64",
      "userId": "10271571870412479017"
     },
     "user_tz": 420
    },
    "id": "qSIPLQb4P3w-"
   },
   "outputs": [],
   "source": [
    "voting_clf = VotingClassifier(\n",
    "    estimators=[('lr', log_clf), ('rf', rnd_clf), ('svc', svm_clf)],\n",
    "    voting='hard')"
   ]
  },
  {
   "cell_type": "code",
   "execution_count": 31,
   "metadata": {
    "colab": {
     "base_uri": "https://localhost:8080/",
     "height": 68
    },
    "executionInfo": {
     "elapsed": 2430,
     "status": "ok",
     "timestamp": 1602199952039,
     "user": {
      "displayName": "Hari Manasa",
      "photoUrl": "https://lh3.googleusercontent.com/a-/AOh14Gj5CvP6OvhAkbWi3_EoABioQBARgoglxUQ_VSccWX8=s64",
      "userId": "10271571870412479017"
     },
     "user_tz": 420
    },
    "id": "arMIYU6zP6ve",
    "outputId": "2c3a2857-c5f5-4f30-d44c-768798972d9c"
   },
   "outputs": [
    {
     "name": "stdout",
     "output_type": "stream",
     "text": [
      "RandomForestClassifier 0.888\n",
      "SVC 0.896\n",
      "VotingClassifier 0.904\n"
     ]
    }
   ],
   "source": [
    "from sklearn.metrics import accuracy_score\n",
    "\n",
    "for clf in (rnd_clf, svm_clf, voting_clf):\n",
    "    clf.fit(X_train, y_train)\n",
    "    y_pred = clf.predict(X_test)\n",
    "    print(clf.__class__.__name__, accuracy_score(y_test, y_pred))"
   ]
  },
  {
   "cell_type": "markdown",
   "metadata": {
    "id": "uFeVhDOAS0SS"
   },
   "source": [
    "**AdaBoost**"
   ]
  },
  {
   "cell_type": "code",
   "execution_count": 6,
   "metadata": {
    "colab": {
     "base_uri": "https://localhost:8080/",
     "height": 289
    },
    "executionInfo": {
     "elapsed": 3308,
     "status": "ok",
     "timestamp": 1602196341276,
     "user": {
      "displayName": "Hari Manasa",
      "photoUrl": "https://lh3.googleusercontent.com/a-/AOh14Gj5CvP6OvhAkbWi3_EoABioQBARgoglxUQ_VSccWX8=s64",
      "userId": "10271571870412479017"
     },
     "user_tz": 420
    },
    "id": "GPo1-ze6RSvC",
    "outputId": "759e8385-5fc4-4703-a954-57d27b82cdb8"
   },
   "outputs": [
    {
     "data": {
      "text/plain": [
       "AdaBoostClassifier(algorithm='SAMME.R',\n",
       "                   base_estimator=DecisionTreeClassifier(ccp_alpha=0.0,\n",
       "                                                         class_weight=None,\n",
       "                                                         criterion='gini',\n",
       "                                                         max_depth=1,\n",
       "                                                         max_features=None,\n",
       "                                                         max_leaf_nodes=None,\n",
       "                                                         min_impurity_decrease=0.0,\n",
       "                                                         min_impurity_split=None,\n",
       "                                                         min_samples_leaf=1,\n",
       "                                                         min_samples_split=2,\n",
       "                                                         min_weight_fraction_leaf=0.0,\n",
       "                                                         presort='deprecated',\n",
       "                                                         random_state=None,\n",
       "                                                         splitter='best'),\n",
       "                   learning_rate=0.5, n_estimators=200, random_state=42)"
      ]
     },
     "execution_count": 6,
     "metadata": {
      "tags": []
     },
     "output_type": "execute_result"
    }
   ],
   "source": [
    "from sklearn.ensemble import AdaBoostClassifier\n",
    "from sklearn.tree import DecisionTreeClassifier\n",
    "\n",
    "ada_clf = AdaBoostClassifier(\n",
    "    DecisionTreeClassifier(max_depth=1), n_estimators=200,\n",
    "    algorithm=\"SAMME.R\", learning_rate=0.5, random_state=42)\n",
    "ada_clf.fit(X_train, y_train)"
   ]
  },
  {
   "cell_type": "code",
   "execution_count": 7,
   "metadata": {
    "colab": {
     "base_uri": "https://localhost:8080/",
     "height": 34
    },
    "executionInfo": {
     "elapsed": 3664,
     "status": "ok",
     "timestamp": 1602196341637,
     "user": {
      "displayName": "Hari Manasa",
      "photoUrl": "https://lh3.googleusercontent.com/a-/AOh14Gj5CvP6OvhAkbWi3_EoABioQBARgoglxUQ_VSccWX8=s64",
      "userId": "10271571870412479017"
     },
     "user_tz": 420
    },
    "id": "GttgDm_6SOM2",
    "outputId": "265c3ca3-bece-4e14-efcf-c6d9d48ce545"
   },
   "outputs": [
    {
     "name": "stdout",
     "output_type": "stream",
     "text": [
      "AdaBoostClassifier 0.896\n"
     ]
    }
   ],
   "source": [
    "ada_clf.fit(X_train, y_train)\n",
    "y_pred = ada_clf.predict(X_test)\n",
    "print(ada_clf.__class__.__name__, accuracy_score(y_test, y_pred))"
   ]
  },
  {
   "cell_type": "markdown",
   "metadata": {
    "id": "kAyrTwebS7Hn"
   },
   "source": [
    "**Gradient Boosting**"
   ]
  },
  {
   "cell_type": "code",
   "execution_count": 8,
   "metadata": {
    "colab": {
     "base_uri": "https://localhost:8080/",
     "height": 170
    },
    "executionInfo": {
     "elapsed": 3841,
     "status": "ok",
     "timestamp": 1602196341821,
     "user": {
      "displayName": "Hari Manasa",
      "photoUrl": "https://lh3.googleusercontent.com/a-/AOh14Gj5CvP6OvhAkbWi3_EoABioQBARgoglxUQ_VSccWX8=s64",
      "userId": "10271571870412479017"
     },
     "user_tz": 420
    },
    "id": "MMh0XPM3Tnqf",
    "outputId": "5bc20e17-d189-4881-ae8c-2ec64a386744"
   },
   "outputs": [
    {
     "data": {
      "text/plain": [
       "GradientBoostingRegressor(alpha=0.9, ccp_alpha=0.0, criterion='friedman_mse',\n",
       "                          init=None, learning_rate=0.1, loss='ls', max_depth=2,\n",
       "                          max_features=None, max_leaf_nodes=None,\n",
       "                          min_impurity_decrease=0.0, min_impurity_split=None,\n",
       "                          min_samples_leaf=1, min_samples_split=2,\n",
       "                          min_weight_fraction_leaf=0.0, n_estimators=87,\n",
       "                          n_iter_no_change=None, presort='deprecated',\n",
       "                          random_state=None, subsample=1.0, tol=0.0001,\n",
       "                          validation_fraction=0.1, verbose=0, warm_start=False)"
      ]
     },
     "execution_count": 8,
     "metadata": {
      "tags": []
     },
     "output_type": "execute_result"
    }
   ],
   "source": [
    "import numpy as np\n",
    "from sklearn.model_selection import train_test_split\n",
    "from sklearn.metrics import mean_squared_error\n",
    "from sklearn.ensemble import GradientBoostingRegressor\n",
    "\n",
    "X_train, X_val, y_train, y_val = train_test_split(X, y)\n",
    "\n",
    "gbrt = GradientBoostingRegressor(max_depth=2, n_estimators=120)\n",
    "gbrt.fit(X_train, y_train)\n",
    "\n",
    "errors = [mean_squared_error(y_val, y_pred)\n",
    "          for y_pred in gbrt.staged_predict(X_val)]\n",
    "bst_n_estimators = np.argmin(errors) + 1\n",
    "\n",
    "gbrt_best = GradientBoostingRegressor(max_depth=2,n_estimators=bst_n_estimators)\n",
    "gbrt_best.fit(X_train, y_train)"
   ]
  },
  {
   "cell_type": "markdown",
   "metadata": {
    "id": "7hRuC7_HVtlw"
   },
   "source": [
    "**XGBoost**"
   ]
  },
  {
   "cell_type": "code",
   "execution_count": 20,
   "metadata": {
    "colab": {
     "base_uri": "https://localhost:8080/",
     "height": 153
    },
    "executionInfo": {
     "elapsed": 355,
     "status": "ok",
     "timestamp": 1602196468971,
     "user": {
      "displayName": "Hari Manasa",
      "photoUrl": "https://lh3.googleusercontent.com/a-/AOh14Gj5CvP6OvhAkbWi3_EoABioQBARgoglxUQ_VSccWX8=s64",
      "userId": "10271571870412479017"
     },
     "user_tz": 420
    },
    "id": "QnQ7nvuyVyCD",
    "outputId": "bfd9a6e8-a1e8-46c9-90eb-a05d18ad9b11"
   },
   "outputs": [
    {
     "name": "stdout",
     "output_type": "stream",
     "text": [
      "[22:34:29] WARNING: /workspace/src/objective/regression_obj.cu:152: reg:linear is now deprecated in favor of reg:squarederror.\n"
     ]
    },
    {
     "data": {
      "text/plain": [
       "XGBRegressor(base_score=0.5, booster='gbtree', colsample_bylevel=1,\n",
       "             colsample_bynode=1, colsample_bytree=1, gamma=0,\n",
       "             importance_type='gain', learning_rate=0.1, max_delta_step=0,\n",
       "             max_depth=3, min_child_weight=1, missing=None, n_estimators=100,\n",
       "             n_jobs=1, nthread=None, objective='reg:linear', random_state=0,\n",
       "             reg_alpha=0, reg_lambda=1, scale_pos_weight=1, seed=None,\n",
       "             silent=None, subsample=1, verbosity=1)"
      ]
     },
     "execution_count": 20,
     "metadata": {
      "tags": []
     },
     "output_type": "execute_result"
    }
   ],
   "source": [
    "import xgboost\n",
    "\n",
    "xgb_reg = xgboost.XGBRegressor()\n",
    "xgb_reg.fit(X_train, y_train)\n"
   ]
  },
  {
   "cell_type": "code",
   "execution_count": 18,
   "metadata": {
    "executionInfo": {
     "elapsed": 303,
     "status": "ok",
     "timestamp": 1602196422816,
     "user": {
      "displayName": "Hari Manasa",
      "photoUrl": "https://lh3.googleusercontent.com/a-/AOh14Gj5CvP6OvhAkbWi3_EoABioQBARgoglxUQ_VSccWX8=s64",
      "userId": "10271571870412479017"
     },
     "user_tz": 420
    },
    "id": "rjr6pi71WEWu"
   },
   "outputs": [],
   "source": [
    "y_pred = xgb_reg.predict(X_test)"
   ]
  },
  {
   "cell_type": "code",
   "execution_count": 19,
   "metadata": {
    "colab": {
     "base_uri": "https://localhost:8080/",
     "height": 561
    },
    "executionInfo": {
     "elapsed": 298,
     "status": "ok",
     "timestamp": 1602196430274,
     "user": {
      "displayName": "Hari Manasa",
      "photoUrl": "https://lh3.googleusercontent.com/a-/AOh14Gj5CvP6OvhAkbWi3_EoABioQBARgoglxUQ_VSccWX8=s64",
      "userId": "10271571870412479017"
     },
     "user_tz": 420
    },
    "id": "rB0PIXfwWUfP",
    "outputId": "e14781bd-1983-4d58-e27b-f58401d650ba"
   },
   "outputs": [
    {
     "name": "stdout",
     "output_type": "stream",
     "text": [
      "[ 6.84656262e-01  3.43503982e-01  3.59332919e-01  1.01046693e+00\n",
      "  1.04586267e+00  1.11977482e+00  3.63428593e-02  1.32250488e-02\n",
      " -7.16978312e-03  1.12321675e-02  1.01931071e+00  4.05356288e-03\n",
      "  1.02806592e+00  8.99658084e-01  9.45090294e-01  1.49184525e-01\n",
      "  9.33441520e-03  8.67249846e-01  9.07175660e-01  4.69017833e-01\n",
      "  3.85245979e-02  1.00851822e+00  6.08120561e-01 -6.20841980e-04\n",
      "  4.63179439e-01  2.22682744e-01  9.25460875e-01  1.72578990e-02\n",
      "  1.03832555e+00  1.04159713e-02  9.91553962e-01  1.01289463e+00\n",
      "  6.93391263e-02  3.06931138e-02  9.97318149e-01  1.43426806e-01\n",
      "  2.38741636e-02  9.53957319e-01  9.40359175e-01  1.01245677e+00\n",
      "  6.70815706e-01  1.09149301e+00  2.52489150e-01  2.06913441e-01\n",
      " -3.70371342e-03  2.53286988e-01  8.08649421e-01  3.34067702e-01\n",
      "  1.08617711e+00  6.80891991e-01  7.96561122e-01  1.00925255e+00\n",
      " -2.28548646e-02  3.91273201e-02  8.15594554e-01  3.06931138e-02\n",
      "  8.15963507e-01  9.79794383e-01  2.50675380e-02  9.87643719e-01\n",
      "  1.72578990e-02  8.60137820e-01  9.43266034e-01  3.85245979e-02\n",
      "  9.07499492e-01  1.61865354e-03  1.28450781e-01  1.80329472e-01\n",
      "  1.72578990e-02  1.02713323e+00  2.93931901e-01  2.51676440e-02\n",
      "  9.32109058e-01  7.44079828e-01  9.33441520e-03  4.05356288e-03\n",
      "  1.00925255e+00  1.00012994e+00 -7.98851252e-03  3.83248746e-01\n",
      "  9.90960121e-01  9.99407530e-01  7.75667667e-01  5.55554390e-01\n",
      "  1.00928783e+00  9.37345028e-01  7.46920228e-01  1.32250488e-02\n",
      "  9.86734867e-01  1.09523034e+00  1.01289463e+00 -7.98851252e-03\n",
      "  1.16675794e-02  7.17853010e-02  1.72578990e-02  1.01386905e+00\n",
      " -7.98851252e-03  6.46609902e-01  2.89322078e-01  1.01046693e+00\n",
      " -9.38957930e-03  9.79729652e-01  9.91553962e-01  4.44443226e-02\n",
      "  1.34198666e-02  3.63428593e-02 -4.54795361e-03  8.13623071e-02\n",
      "  5.70781469e-01  9.45090294e-01  3.12356591e-01  1.24677867e-01\n",
      " -6.70540333e-03  9.99407530e-01  5.80968857e-01  1.76444054e-02\n",
      "  3.14807892e-03  4.05356288e-03  2.94484198e-02  1.01228762e+00\n",
      "  9.97318149e-01  1.07229090e+00  7.31892169e-01 -1.18817091e-02\n",
      "  1.22684151e-01]\n"
     ]
    }
   ],
   "source": [
    "print(y_pred)"
   ]
  },
  {
   "cell_type": "markdown",
   "metadata": {
    "id": "T85HerJLZGM3"
   },
   "source": [
    "References: \n",
    "https://github.com/dmlc/xgboost\n",
    "\n",
    "https://learning.oreilly.com/library/view/next-generation-machine-learning/9781484256695/html/488426_1_En_3_Chapter.xhtml\n"
   ]
  },
  {
   "cell_type": "markdown",
   "metadata": {
    "id": "S1MaaIDNbMZ-"
   },
   "source": [
    "**Parameters in XGBoost:**\n",
    "\n",
    "XGBoost has a lot more parameters than Random Forest and generally requires more tuning.\n",
    "\n",
    "1. max_depth: Specifies the maximum depth of the tree. Setting a high value for max_depth may increase the likelihood of overfitting and make the model more complex.\n",
    "\n",
    "2. n_estimators: Specifies the numbers of trees to fit. Generally speaking, the larger value, the better. Setting this parameter too high may affect training speed. Adding more trees beyond a certain point may not improve accuracy. \n",
    "\n",
    "3. sub_sample: Specifies the fraction of data that will be selected for each tree. Setting this parameter can increase training speed and help prevent overfitting. Setting it too low may cause underfitting.\n",
    "\n",
    "4. colsample_bytree: Specifies the fraction of columns that will be selected randomly for each tree. Setting this parameter can increase training speed and help prevent overfitting. Related parameters include colsample_bylevel and colsample_bynode.\n",
    "\n",
    "5. objective: Specifies the learning task and learning objective. It is important to set the correct value for this parameter to avoid unpredictable results or poor accuracy. XGBClassifier defaults to binary:logistic for binary classification, while XGBRegressor defaults to reg:squarederror. Other values include multi:softmax and multi:softprob for multiclass classification; rank:pairwise, rank:ndcg, and rank:map for ranking; and survival:cox for survival regression using Cox proportional hazards model, to mention a few.\n",
    "\n",
    "6. learning_rate (eta): learning_rate is used as a shrinkage factor to reduce the feature weights after each boosting step, with the goal of slowing down the learning rate. This parameter is used to control overfitting. Lower values require more trees.\n",
    "\n",
    "7. n_jobs: Specifies the number of parallel threads used by XGBoost (if n_thread is deprecated, use this parameter instead).\n",
    "\n",
    "\n",
    "\n",
    "\n"
   ]
  }
 ],
 "metadata": {
  "colab": {
   "authorship_tag": "ABX9TyNx/lDxb0TuJhrzzonUwL59",
   "collapsed_sections": [],
   "name": "Demo - 6",
   "provenance": [
    {
     "file_id": "1Aw5GHvzqa0kOq7fxQwz4sFNUPjhx9OxY",
     "timestamp": 1602196319126
    }
   ]
  },
  "kernelspec": {
   "display_name": "Python 3",
   "language": "python",
   "name": "python3"
  },
  "language_info": {
   "codemirror_mode": {
    "name": "ipython",
    "version": 3
   },
   "file_extension": ".py",
   "mimetype": "text/x-python",
   "name": "python",
   "nbconvert_exporter": "python",
   "pygments_lexer": "ipython3",
   "version": "3.8.5"
  }
 },
 "nbformat": 4,
 "nbformat_minor": 4
}
